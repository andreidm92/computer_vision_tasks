{
  "nbformat": 4,
  "nbformat_minor": 0,
  "metadata": {
    "colab": {
      "provenance": [],
      "authorship_tag": "ABX9TyPL2eq3xoRWzQWY3RnNOJKD",
      "include_colab_link": true
    },
    "kernelspec": {
      "name": "python3",
      "display_name": "Python 3"
    },
    "language_info": {
      "name": "python"
    }
  },
  "cells": [
    {
      "cell_type": "markdown",
      "metadata": {
        "id": "view-in-github",
        "colab_type": "text"
      },
      "source": [
        "<a href=\"https://colab.research.google.com/github/andreidm92/computer_vision_tasks/blob/main/Template.ipynb\" target=\"_parent\"><img src=\"https://colab.research.google.com/assets/colab-badge.svg\" alt=\"Open In Colab\"/></a>"
      ]
    },
    {
      "cell_type": "markdown",
      "source": [
        "# 📚 Название темы\n",
        "\n",
        "## 📋 Описание\n",
        "Краткое описание, что делаем в этом ноутбуке (2–3 предложения).\n",
        "\n",
        "## 🛠 План работы\n",
        "1. Теоретический обзор темы\n",
        "2. Практическое задание\n",
        "3. Проверка результата\n",
        "\n",
        "## 📚 Теория\n",
        "(Пишем кратко суть темы — 5–7 предложений)\n",
        "\n",
        "---\n",
        "\n",
        "## 🛠 Практическая часть\n",
        "\n",
        "### Шаг 1: Импорты\n",
        "\n",
        "\n"
      ],
      "metadata": {
        "id": "5m7wa4e8EGyR"
      }
    },
    {
      "cell_type": "code",
      "source": [
        "import cv2\n",
        "import numpy as np\n",
        "import matplotlib.pyplot as plt"
      ],
      "metadata": {
        "id": "U5JeVGbODvby"
      },
      "execution_count": 2,
      "outputs": []
    },
    {
      "cell_type": "markdown",
      "source": [
        "### Шаг 2: Загрузка и подготовка изображений"
      ],
      "metadata": {
        "id": "neNHOIRuFoet"
      }
    },
    {
      "cell_type": "code",
      "source": [
        "# пример\n",
        "#img = cv2.imread('path_to_image.jpg')\n",
        "#img = cv2.cvtColor(img, cv2.COLOR_BGR2RGB)\n",
        "#plt.imshow(img)\n",
        "#plt.axis('off')\n",
        "#plt.show()\n"
      ],
      "metadata": {
        "id": "waGzyB7cF40l"
      },
      "execution_count": 3,
      "outputs": []
    },
    {
      "cell_type": "markdown",
      "source": [
        "### Шаг 3: Основная реализация"
      ],
      "metadata": {
        "id": "vlbAcXnkGVQz"
      }
    },
    {
      "cell_type": "markdown",
      "source": [],
      "metadata": {
        "id": "GipgbSJIFFTl"
      }
    },
    {
      "cell_type": "code",
      "source": [],
      "metadata": {
        "id": "sUDrp9eOEa5v"
      },
      "execution_count": 2,
      "outputs": []
    }
  ]
}