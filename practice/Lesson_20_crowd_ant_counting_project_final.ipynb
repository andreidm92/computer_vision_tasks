{
  "cells": [
    {
      "cell_type": "markdown",
      "metadata": {
        "id": "view-in-github",
        "colab_type": "text"
      },
      "source": [
        "<a href=\"https://colab.research.google.com/github/andreidm92/computer_vision_tasks/blob/main/practice/Lesson_20_crowd_ant_counting_project_final.ipynb\" target=\"_parent\"><img src=\"https://colab.research.google.com/assets/colab-badge.svg\" alt=\"Open In Colab\"/></a>"
      ]
    },
    {
      "cell_type": "markdown",
      "id": "6f65c26c",
      "metadata": {
        "id": "6f65c26c"
      },
      "source": [
        "# 🐜🧍 Проект: Подсчёт муравьёв и людей в толпе с использованием трёх методов"
      ]
    },
    {
      "cell_type": "markdown",
      "id": "4df2aa75",
      "metadata": {
        "id": "4df2aa75"
      },
      "source": [
        "\n",
        "## 🎯 Цель проекта\n",
        "Сравнить три современных подхода к подсчёту объектов:\n",
        "1. **CSRNet** — подсчёт по картам плотности (density map regression)\n",
        "2. **Mask R-CNN** — instance segmentation (пиксельные маски)\n",
        "3. **YOLACT** — real-time instance segmentation\n",
        "\n",
        "Примеры:\n",
        "- 🧍 Толпа людей — [NWPU-Crowd](https://gjy3035.github.io/NWPU-Crowd-Sample-Code/)\n",
        "- 🐜 Муравьи — [Ant Detection Dataset (Roboflow)](https://universe.roboflow.com/datasets-rxtdh/ant-detection-gfju4-ooiag)\n",
        "\n",
        "В проект входят:\n",
        "- Теория (архитектуры, формулы, компоненты)\n",
        "- Практика на датасетах\n",
        "- OpenCV-решение\n",
        "- Линейная алгебра (SVD, псевдообратная матрица)\n"
      ]
    },
    {
      "cell_type": "markdown",
      "id": "9ee0684c",
      "metadata": {
        "id": "9ee0684c"
      },
      "source": [
        "\n",
        "### 🧱 VGG16\n",
        "- Глубокая CNN, состоящая из **13 сверточных слоёв** и **3 полносвязных**\n",
        "- Используется как feature extractor в CSRNet\n",
        "- Архитектура: последовательные Conv3x3 + ReLU + MaxPool\n",
        "\n",
        "**В CSRNet**: используется **только сверточная часть** (без FC)\n",
        "```plaintext\n",
        "Conv3-64 → Conv3-64 → MP →\n",
        "Conv3-128 → Conv3-128 → MP →\n",
        "Conv3-256 ×3 → MP →\n",
        "Conv3-512 ×3 → MP →\n",
        "Conv3-512 ×3\n",
        "```\n",
        "\n",
        "---\n",
        "\n",
        "### 🔁 Dilated Convolutions\n",
        "- Расширенные свёртки: увеличивают receptive field **без увеличения числа параметров**\n",
        "- Используются в CSRNet **вместо Pooling** после VGG16\n",
        "- Позволяют видеть больше контекста в изображении\n",
        "\n",
        "---\n",
        "\n",
        "### 🌀 ResNet\n",
        "- Основная сеть в Mask R-CNN и YOLACT\n",
        "- Идея: **residual connection** — $F(x) + x$\n",
        "- Примеры: ResNet-50 (50 слоёв), ResNet-101\n",
        "- Состоят из Bottleneck-блоков\n",
        "\n",
        "---\n",
        "\n",
        "### 🧭 FPN (Feature Pyramid Network)\n",
        "- Усиливает ResNet: объединяет признаки с разных уровней (низкий, средний, высокий)\n",
        "- Полезно при обнаружении объектов **разного размера**\n",
        "- Используется и в Mask R-CNN, и в YOLACT\n",
        "\n",
        "---\n",
        "\n",
        "### 🧿 RPN (Region Proposal Network)\n",
        "- Генерирует **anchor**-области, где могут находиться объекты\n",
        "- Выход: bbox и objectness score\n",
        "- Работает поверх FPN\n",
        "\n",
        "---\n",
        "\n",
        "### 🎯 RoIAlign\n",
        "- Операция выбора фичей из предложенных RPN region\n",
        "- В отличие от RoIPool **не округляет координаты**\n",
        "- Обеспечивает точную маску\n",
        "\n",
        "---\n",
        "\n",
        "### 🎨 Protonet (в YOLACT)\n",
        "- Маленькая CNN, генерирует **N прототипов масок** для изображения\n",
        "- Вместо одной маски для каждого объекта → комбинация прототипов\n",
        "\n",
        "```plaintext\n",
        "M_объекта = sum(c_i × P_i), i = 1..N\n",
        "```\n"
      ]
    },
    {
      "cell_type": "markdown",
      "id": "3d8363e1",
      "metadata": {
        "id": "3d8363e1"
      },
      "source": [
        "## ⚙️ Подготовка среды"
      ]
    },
    {
      "cell_type": "code",
      "execution_count": null,
      "id": "5a048917",
      "metadata": {
        "id": "5a048917"
      },
      "outputs": [],
      "source": [
        "\n",
        "# Базовые библиотеки\n",
        "!pip install -q torch torchvision opencv-python matplotlib\n",
        "\n",
        "# Detectron2 (Mask R-CNN)\n",
        "!pip install -q git+https://github.com/facebookresearch/detectron2.git\n"
      ]
    },
    {
      "cell_type": "markdown",
      "id": "a1bcf057",
      "metadata": {
        "id": "a1bcf057"
      },
      "source": [
        "## 🧪 Задание 1: CSRNet на NWPU и муравьях"
      ]
    },
    {
      "cell_type": "code",
      "execution_count": null,
      "id": "4e954ca6",
      "metadata": {
        "id": "4e954ca6"
      },
      "outputs": [],
      "source": [
        "\n",
        "# Пример генерации density map из dot-аннотаций (heatmap)\n",
        "import numpy as np\n",
        "import cv2\n",
        "from scipy.ndimage import gaussian_filter\n",
        "import matplotlib.pyplot as plt\n",
        "\n",
        "def generate_density_map(image_shape, points, sigma=4):\n",
        "    density = np.zeros(image_shape[:2], dtype=np.float32)\n",
        "    for x, y in points:\n",
        "        if x >= image_shape[1] or y >= image_shape[0]:\n",
        "            continue\n",
        "        density[int(y), int(x)] += 1\n",
        "    return gaussian_filter(density, sigma=sigma)\n",
        "\n",
        "# Пример: 3 точки\n",
        "img_shape = (256, 256, 3)\n",
        "dots = [(100, 100), (120, 140), (200, 220)]\n",
        "density_map = generate_density_map(img_shape, dots)\n",
        "\n",
        "plt.imshow(density_map, cmap='jet')\n",
        "plt.title(\"Density Map\")\n",
        "plt.colorbar()\n",
        "plt.show()\n"
      ]
    },
    {
      "cell_type": "markdown",
      "id": "8d1ebac1",
      "metadata": {
        "id": "8d1ebac1"
      },
      "source": [
        "## 📘 Теория: модели и архитектуры"
      ]
    },
    {
      "cell_type": "markdown",
      "id": "1776928f",
      "metadata": {
        "id": "1776928f"
      },
      "source": [
        "## 🧠 Метод 1: CSRNet — Density Map Regression"
      ]
    },
    {
      "cell_type": "markdown",
      "id": "32081cf7",
      "metadata": {
        "id": "32081cf7"
      },
      "source": [
        "\n",
        "CSRNet (Congested Scene Recognition Network) — это сверточная нейронная сеть, предназначенная для **подсчёта объектов** в **плотных сценах**, таких как толпы людей, муравьи, стаи птиц и т.д.\n",
        "\n",
        "### 🧩 Архитектура:\n",
        "CSRNet состоит из двух частей:\n",
        "1. **Backbone** — извлекает признаки: используется **VGG16** без полносвязных слоёв\n",
        "2. **Регрессионный блок** — использует **Dilated Convolutions** для увеличения поля зрения\n",
        "\n",
        "### 🔧 Зачем нужны компоненты:\n",
        "\n",
        "- **VGG16** (13 conv-слоёв):\n",
        "  Извлекает признаки из изображения. Слои:\n",
        "  ```\n",
        "  Conv3-64 → Conv3-64 → MP →\n",
        "  Conv3-128 → Conv3-128 → MP →\n",
        "  Conv3-256 ×3 → MP →\n",
        "  Conv3-512 ×3 → MP →\n",
        "  Conv3-512 ×3\n",
        "  ```\n",
        "\n",
        "- **Dilated Convolution Layers**:\n",
        "  Увеличивают область захвата (receptive field), не увеличивая параметров. Используются вместо обычных свёрток:\n",
        "  ```\n",
        "  Conv(3x3, dilation=2), ReLU → повторяется несколько раз\n",
        "  ```\n",
        "\n",
        "Эти слои позволяют сети «видеть» объекты в широком контексте и адекватно строить карту плотности.\n",
        "\n",
        "### 📐 Что предсказывает CSRNet?\n",
        "2D-изображение (density map), где яркость каждого пикселя = «плотность объектов» в этом месте. Сумма всех значений ≈ количество объектов.\n",
        "\n"
      ]
    },
    {
      "cell_type": "markdown",
      "id": "da0dfd51",
      "metadata": {
        "id": "da0dfd51"
      },
      "source": [
        "## 🧠 Метод 2: Mask R-CNN — Instance Segmentation"
      ]
    },
    {
      "cell_type": "markdown",
      "id": "0d18a225",
      "metadata": {
        "id": "0d18a225"
      },
      "source": [
        "\n",
        "Mask R-CNN — это модель для **instance segmentation**, то есть предсказания **bounding box + маски** для каждого объекта на изображении.\n",
        "\n",
        "### 🧩 Архитектура:\n",
        "Mask R-CNN состоит из:\n",
        "1. **Backbone (ResNet-50 или 101)** + **FPN**\n",
        "2. **RPN (Region Proposal Network)** — генерирует регионы\n",
        "3. **RoIAlign** — извлекает фичи из регионов\n",
        "4. **Heads** — классификация, bbox-регрессия, маска\n",
        "\n",
        "### 🔧 Компоненты:\n",
        "\n",
        "- **ResNet-50/101**:\n",
        "  Извлекает признаки. Используются блоки типа bottleneck:\n",
        "  ```\n",
        "  Conv1 → MaxPool →\n",
        "  Conv2_x (3 блока) →\n",
        "  Conv3_x (4 блока) →\n",
        "  Conv4_x (6 или 23 блока) →\n",
        "  Conv5_x (3 блока)\n",
        "  ```\n",
        "\n",
        "- **FPN (Feature Pyramid Network)**:\n",
        "  Объединяет признаки с разных уровней, чтобы находить объекты **разного масштаба**.\n",
        "\n",
        "- **RPN (Region Proposal Network)**:\n",
        "  Генерирует «якоря» — регионы, где, вероятно, есть объект.\n",
        "\n",
        "- **RoIAlign**:\n",
        "  Извлекает фиксированный размер признаков из предложенных регионов, **без округлений координат**.\n",
        "\n",
        "- **Mask Head**:\n",
        "  Маленькая CNN, предсказывает маску 28×28 на каждый найденный объект.\n",
        "\n"
      ]
    },
    {
      "cell_type": "markdown",
      "id": "cb3fa2e3",
      "metadata": {
        "id": "cb3fa2e3"
      },
      "source": [
        "## 🧠 Метод 3: YOLACT — Real-Time Instance Segmentation"
      ]
    },
    {
      "cell_type": "markdown",
      "id": "216b13bd",
      "metadata": {
        "id": "216b13bd"
      },
      "source": [
        "\n",
        "YOLACT (You Only Look At Coefficients) — это модель для instance segmentation, построенная для **реального времени**.\n",
        "\n",
        "### 🧩 Архитектура:\n",
        "1. **Backbone (ResNet-50/101)** + **FPN**\n",
        "2. **Protonet** — генерирует прототипы масок\n",
        "3. **Prediction head** — bbox, классы, маска-коэффициенты\n",
        "\n",
        "### 🔧 Компоненты:\n",
        "\n",
        "- **ResNet** + **FPN**:\n",
        "  Извлекает признаки, работает как в Mask R-CNN.\n",
        "\n",
        "- **Protonet**:\n",
        "  Маленькая CNN (~3–5 conv-слоёв), создаёт **N прототипов** (например, 32 маски на всё изображение).\n",
        "\n",
        "- **Коэффициенты маски**:\n",
        "  Для каждого объекта считаются весы $c_i$, итоговая маска:\n",
        "  $$\n",
        "  M = \\sum_{i=1}^{N} c_i \\cdot P_i\n",
        "  $$\n",
        "\n",
        "  где $P_i$ — прототип, $c_i$ — коэффициент.\n",
        "\n",
        "Такой подход позволяет ускорить сегментацию, так как прототипы общие, и не надо строить маску с нуля для каждого объекта.\n",
        "\n"
      ]
    },
    {
      "cell_type": "markdown",
      "id": "6e781d58",
      "metadata": {
        "id": "6e781d58"
      },
      "source": [
        "## 🧪 Практика: загрузка данных, обучение моделей, предсказание"
      ]
    },
    {
      "cell_type": "markdown",
      "id": "1985819f",
      "metadata": {
        "id": "1985819f"
      },
      "source": [
        "## 🚀 Обучение CSRNet"
      ]
    },
    {
      "cell_type": "markdown",
      "id": "d26041ac",
      "metadata": {
        "id": "d26041ac"
      },
      "source": [
        "\n",
        "CSRNet обычно требует dot-аннотаций (формат `.mat` или `.txt` с координатами объектов). Мы используем `ShanghaiTech`, `NWPU` или кастомный набор.\n",
        "\n",
        "### 📦 Шаги:\n",
        "1. Сформировать ground truth density maps\n",
        "2. Обучить CSRNet на них (используется PyTorch)\n",
        "3. Валидировать на отдельной выборке\n",
        "\n",
        "📌 Подробный код обучения см. в [оригинальном репозитории CSRNet](https://github.com/leeyeehoo/CSRNet-pytorch)\n",
        "\n",
        "### 🔧 Типичный фрагмент кода:\n",
        "```python\n",
        "from model import CSRNet\n",
        "from torch.utils.data import DataLoader\n",
        "from dataset import CrowdDataset\n",
        "\n",
        "model = CSRNet().cuda()\n",
        "train_loader = DataLoader(...)\n",
        "\n",
        "for batch in train_loader:\n",
        "    images, gt_density = batch\n",
        "    output = model(images.cuda())\n",
        "    loss = loss_fn(output, gt_density.cuda())\n",
        "    ...\n",
        "```\n"
      ]
    },
    {
      "cell_type": "markdown",
      "id": "adb545aa",
      "metadata": {
        "id": "adb545aa"
      },
      "source": [
        "## 🚀 Обучение Mask R-CNN (Detectron2)"
      ]
    },
    {
      "cell_type": "code",
      "execution_count": null,
      "id": "e7e410db",
      "metadata": {
        "id": "e7e410db"
      },
      "outputs": [],
      "source": [
        "\n",
        "from detectron2.engine import DefaultTrainer\n",
        "from detectron2.config import get_cfg\n",
        "from detectron2 import model_zoo\n",
        "\n",
        "cfg = get_cfg()\n",
        "cfg.merge_from_file(model_zoo.get_config_file(\"COCO-InstanceSegmentation/mask_rcnn_R_50_FPN_3x.yaml\"))\n",
        "cfg.DATASETS.TRAIN = (\"my_dataset_train\",)\n",
        "cfg.DATASETS.TEST = (\"my_dataset_val\",)\n",
        "cfg.DATALOADER.NUM_WORKERS = 2\n",
        "cfg.MODEL.WEIGHTS = model_zoo.get_checkpoint_url(\"COCO-InstanceSegmentation/mask_rcnn_R_50_FPN_3x.yaml\")\n",
        "cfg.SOLVER.IMS_PER_BATCH = 2\n",
        "cfg.SOLVER.BASE_LR = 0.00025\n",
        "cfg.SOLVER.MAX_ITER = 300\n",
        "cfg.MODEL.ROI_HEADS.BATCH_SIZE_PER_IMAGE = 128\n",
        "cfg.MODEL.ROI_HEADS.NUM_CLASSES = 1  # муравьи\n",
        "\n",
        "trainer = DefaultTrainer(cfg)\n",
        "trainer.resume_or_load(resume=False)\n",
        "trainer.train()\n"
      ]
    },
    {
      "cell_type": "markdown",
      "id": "49f78d62",
      "metadata": {
        "id": "49f78d62"
      },
      "source": [
        "## 🚀 Обучение YOLACT"
      ]
    },
    {
      "cell_type": "markdown",
      "id": "c171e5aa",
      "metadata": {
        "id": "c171e5aa"
      },
      "source": [
        "\n",
        "YOLACT нужно устанавливать из исходников:  \n",
        "🔗 [https://github.com/dbolya/yolact](https://github.com/dbolya/yolact)\n",
        "\n",
        "### 🔧 Установка:\n",
        "```bash\n",
        "!git clone https://github.com/dbolya/yolact.git\n",
        "%cd yolact\n",
        "!pip install -r requirements.txt\n",
        "!python setup.py build_ext --inplace\n",
        "```\n",
        "\n",
        "### 📦 Обучение:\n",
        "1. Подготовить датасет в формате COCO\n",
        "2. Изменить конфигурацию в `config.py`\n",
        "3. Запуск:\n",
        "```bash\n",
        "python train.py --config=yolact_base_config --batch_size=8\n",
        "```\n"
      ]
    },
    {
      "cell_type": "markdown",
      "id": "a358ec49",
      "metadata": {
        "id": "a358ec49"
      },
      "source": [
        "## 🧪 Задание 2: решение задачи средствами OpenCV"
      ]
    },
    {
      "cell_type": "markdown",
      "id": "179f7d50",
      "metadata": {
        "id": "179f7d50"
      },
      "source": [
        "## 🧪 Задание 2: OpenCV подход к подсчёту объектов (через connected components)"
      ]
    },
    {
      "cell_type": "code",
      "execution_count": null,
      "id": "5a5a174e",
      "metadata": {
        "id": "5a5a174e"
      },
      "outputs": [],
      "source": [
        "\n",
        "# Простая бинаризация + connected components\n",
        "thresh = cv2.threshold((density_map * 255).astype(np.uint8), 10, 255, cv2.THRESH_BINARY)[1]\n",
        "num_labels, labels_im = cv2.connectedComponents(thresh)\n",
        "\n",
        "print(\"Объектов найдено (по компонентам):\", num_labels - 1)\n",
        "plt.imshow(thresh, cmap='gray')\n",
        "plt.title(\"Binary Thresholded Map\")\n",
        "plt.show()\n"
      ]
    },
    {
      "cell_type": "markdown",
      "id": "ac0e0826",
      "metadata": {
        "id": "ac0e0826"
      },
      "source": [
        "## 🧮 Задание 3: линейная алгебра — SVD и псевдообратная матрица"
      ]
    },
    {
      "cell_type": "markdown",
      "id": "7b422935",
      "metadata": {
        "id": "7b422935"
      },
      "source": [
        "## 🧮 Задание 3: Линейная алгебра — SVD и псевдообратная матрица"
      ]
    },
    {
      "cell_type": "code",
      "execution_count": null,
      "id": "7d97b51d",
      "metadata": {
        "id": "7d97b51d"
      },
      "outputs": [],
      "source": [
        "\n",
        "import numpy as np\n",
        "\n",
        "A = np.array([[1, 2], [3, 4], [5, 6]])\n",
        "U, S, VT = np.linalg.svd(A)\n",
        "print(\"U:\n",
        "\", U)\n",
        "print(\"S:\n",
        "\", S)\n",
        "print(\"VT:\n",
        "\", VT)\n",
        "\n",
        "# Построим псевдообратную\n",
        "Sigma_plus = np.zeros((VT.shape[0], U.shape[0]))\n",
        "Sigma_plus[:len(S), :len(S)] = np.diag(1/S)\n",
        "\n",
        "A_pseudo = VT.T @ Sigma_plus @ U.T\n",
        "print(\"Псевдообратная A⁺:\n",
        "\", A_pseudo)\n",
        "\n",
        "# Решим Ax = b\n",
        "b = np.array([1, 2, 3])\n",
        "x = A_pseudo @ b\n",
        "print(\"x (решение):\", x)\n"
      ]
    }
  ],
  "metadata": {
    "colab": {
      "provenance": [],
      "include_colab_link": true
    }
  },
  "nbformat": 4,
  "nbformat_minor": 5
}