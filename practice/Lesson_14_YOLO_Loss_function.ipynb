{
  "cells": [
    {
      "cell_type": "markdown",
      "metadata": {
        "id": "view-in-github",
        "colab_type": "text"
      },
      "source": [
        "<a href=\"https://colab.research.google.com/github/andreidm92/computer_vision_tasks/blob/main/practice/Lesson_14_YOLO_Loss_function.ipynb\" target=\"_parent\"><img src=\"https://colab.research.google.com/assets/colab-badge.svg\" alt=\"Open In Colab\"/></a>"
      ]
    },
    {
      "cell_type": "markdown",
      "id": "b62a5c2e",
      "metadata": {
        "id": "b62a5c2e"
      },
      "source": [
        "# 🎯 Урок 14: YOLO — Loss-функции, визуализация IoU, контроль глубины\n",
        "Полный обзор одной из ключевых тем в object detection — как модели YOLO обучаются через функцию потерь, как визуализируются ошибки, и как на основе предсказаний можно оценить глубину объектов."
      ]
    },
    {
      "cell_type": "markdown",
      "id": "0a87afed",
      "metadata": {
        "id": "0a87afed"
      },
      "source": [
        "## 1️⃣ Теория: Компоненты Loss-функции в YOLO"
      ]
    },
    {
      "cell_type": "markdown",
      "id": "e6cea4be",
      "metadata": {
        "id": "e6cea4be"
      },
      "source": [
        "YOLO использует **мультизадачную функцию потерь**, состоящую из трёх компонентов:\n",
        "\n",
        "### 1.1 Localization Loss (координаты бокса):\n",
        "Используется **MSE** между предсказанными и истинными координатами:\n",
        "$$\n",
        "\\mathcal{L}_{coord} = \\lambda_{coord} \\sum_{i=0}^{S^2} \\sum_{j=0}^{B} \\mathbb{1}_{ij}^{obj} \\left[ (x_i - \\hat{x}_i)^2 + (y_i - \\hat{y}_i)^2 + (\\sqrt{w_i} - \\sqrt{\\hat{w}_i})^2 + (\\sqrt{h_i} - \\sqrt{\\hat{h}_i})^2 \\right]\n",
        "$$\n",
        "- $x, y$ — координаты центра;\n",
        "- $w, h$ — ширина и высота;\n",
        "- $\\mathbb{1}_{ij}^{obj}$ — индикатор наличия объекта.\n",
        "\n",
        "YOLO использует $\\sqrt{w}$ и $\\sqrt{h}$ вместо самих $w, h$, чтобы сбалансировать влияние больших и маленьких объектов:\n",
        "\n",
        "Если бы мы использовали просто $(w_i - \\hat{w}_i)^2$, большие боксы дали бы намного больше ошибку, чем маленькие — модель бы \"игнорировала\" маленькие объекты.\n",
        "\n",
        "Корень сглаживает влияние: он делает ошибку более относительной по размеру.\n",
        "\n",
        "### 🧠 Что означают индексы в YOLO Loss\n",
        "\n",
        "#### 🔷 Индекс \\( i \\):\n",
        "- Это **ячейка сетки (grid cell)**, на которую разбито изображение.\n",
        "- YOLO делит изображение на сетку размером \\( S \\times S \\) — например, 7×7.\n",
        "- Всего будет \\( S^2 \\) ячеек.\n",
        "- Каждая ячейка отвечает за **обнаружение объекта, чей центр попадает в неё**.\n",
        "\n",
        "**Пример:**  \n",
        "Если \\( S = 7 \\), то \\( i \\in \\{0, 1, ..., 48\\} \\) — всего 49 ячеек.\n",
        "\n",
        "#### 🔷 Индекс \\( j \\):\n",
        "- Это номер одного из **\\( B \\)** предсказанных боксов в ячейке.\n",
        "- В каждой ячейке YOLO предсказывает \\( B \\) bounding boxes (обычно \\( B = 2 \\)).\n",
        "- Поэтому \\( j \\in \\{0, 1, ..., B - 1\\} \\)\n",
        "\n",
        "---\n",
        "\n",
        "### 🔁 Вложенность суммы:\n",
        "\n",
        "$$\n",
        "\\sum_{i=0}^{S^2} \\sum_{j=0}^{B}\n",
        "$$\n",
        "\n",
        "Означает:  \n",
        "**для каждой ячейки** \\( i \\), **для каждого бокса** \\( j \\), вычисляется ошибка **только если там есть объект**, т.е.  \n",
        "\\( \\mathbb{1}_{ij}^{obj} = 1 \\)\n",
        "\n",
        "---\n",
        "\n",
        "### 📌 Итого:\n",
        "\n",
        "| Обозначение | Значение |\n",
        "|-------------|----------|\n",
        "| \\( i \\)     | Номер ячейки сетки (всего \\( S^2 \\)) |\n",
        "| \\( j \\)     | Номер одного из \\( B \\) предсказанных боксов в ячейке |\n",
        "| \\( \\mathbb{1}_{ij}^{obj} \\) | Индикатор: есть ли объект в ячейке \\( i \\), боксе \\( j \\) |\n",
        "\n",
        "\n",
        "### 1.2 Confidence Loss (уверенность в наличии объекта):\n",
        "$$\n",
        "\\mathcal{L}_{conf} = \\sum_{i=0}^{S^2} \\sum_{j=0}^{B} \\left[ \\mathbb{1}_{ij}^{obj} (C_i - \\hat{C}_i)^2 + \\lambda_{noobj} \\cdot \\mathbb{1}_{ij}^{noobj} (C_i - \\hat{C}_i)^2 \\right]\n",
        "$$\n",
        "- $\\lambda_{noobj}$ уменьшает вклад от фона.\n",
        "\n",
        "### 1.3 Classification Loss:\n",
        "$$\n",
        "\\mathcal{L}_{class} = \\sum_{i=0}^{S^2} \\mathbb{1}_i^{obj} \\sum_{c \\in classes} (p_i(c) - \\hat{p}_i(c))^2\n",
        "$$\n",
        "Классы кодируются либо через softmax, либо через sigmoid + binary cross-entropy.\n",
        "\n",
        "### ✏️ Общая формула:\n",
        "$$\n",
        "\\mathcal{L} = \\mathcal{L}_{coord} + \\mathcal{L}_{conf} + \\mathcal{L}_{class}\n",
        "$$"
      ]
    },
    {
      "cell_type": "markdown",
      "id": "ff945a14",
      "metadata": {
        "id": "ff945a14"
      },
      "source": [
        "### 🔧 Эволюция Loss-функций YOLO:\n",
        "\n",
        "| Версия | Особенности |\n",
        "|--------|-------------|\n",
        "| YOLOv1 | Только MSE, даже для классификации |\n",
        "| YOLOv2/3 | Появился IoU в loss, улучшена нормализация |\n",
        "| YOLOv4 | Введён CIoU Loss для локализации |\n",
        "| YOLOv5/8 | Используется CIoU + BCE + фокальный loss |"
      ]
    },
    {
      "cell_type": "markdown",
      "id": "020fe92c",
      "metadata": {
        "id": "020fe92c"
      },
      "source": [
        "## 2️⃣ OpenCV: визуализация IoU, масок, тепловых карт ошибок\n",
        "YOLO-модели предсказывают координаты bounding box. Ошибки в этих предсказаниях можно визуализировать следующими способами:\n",
        "- Нарисовать предсказанный и истинный bbox разными цветами\n",
        "- Вычислить IoU и подписать его на изображении\n",
        "- Построить тепловую карту IoU-ошибок на датасете\n",
        "- Отобразить маски перекрытий объектов"
      ]
    },
    {
      "cell_type": "code",
      "execution_count": 3,
      "id": "134df17f",
      "metadata": {
        "colab": {
          "base_uri": "https://localhost:8080/",
          "height": 428
        },
        "id": "134df17f",
        "outputId": "e7576575-c018-49eb-fda0-0f91aaa659f8"
      },
      "outputs": [
        {
          "output_type": "display_data",
          "data": {
            "text/plain": [
              "<Figure size 640x480 with 1 Axes>"
            ],
            "image/png": "[encoded data removed]"
          },
          "metadata": {}
        }
      ],
      "source": [
        "import numpy as np\n",
        "import cv2\n",
        "import matplotlib.pyplot as plt\n",
        "\n",
        "def iou(boxA, boxB):\n",
        "    xA = max(boxA[0], boxB[0])\n",
        "    yA = max(boxA[1], boxB[1])\n",
        "    xB = min(boxA[2], boxB[2])\n",
        "    yB = min(boxA[3], boxB[3])\n",
        "    interArea = max(0, xB - xA) * max(0, yB - yA)\n",
        "    boxAArea = (boxA[2] - boxA[0]) * (boxA[3] - boxA[1])\n",
        "    boxBArea = (boxB[2] - boxB[0]) * (boxB[3] - boxB[1])\n",
        "    return interArea / float(boxAArea + boxBArea - interArea)\n",
        "\n",
        "# Визуализация bbox и IoU\n",
        "boxA = [50, 50, 150, 150]\n",
        "boxB = [70, 70, 160, 160]\n",
        "image = np.ones((200, 200, 3), dtype=np.uint8) * 255\n",
        "cv2.rectangle(image, (boxA[0], boxA[1]), (boxA[2], boxA[3]), (255, 0, 0), 2)\n",
        "cv2.rectangle(image, (boxB[0], boxB[1]), (boxB[2], boxB[3]), (0, 255, 0), 2)\n",
        "iou_val = iou(boxA, boxB)\n",
        "cv2.putText(image, f'IoU: {iou_val:.2f}', (10, 190), cv2.FONT_HERSHEY_SIMPLEX, 0.6, (0, 0, 0), 2)\n",
        "plt.imshow(cv2.cvtColor(image, cv2.COLOR_BGR2RGB))\n",
        "plt.title(\"Blue: GT, Green: Prediction\")\n",
        "plt.axis('off')\n",
        "plt.show()"
      ]
    },
    {
      "cell_type": "markdown",
      "source": [
        "# Маска пересечения:"
      ],
      "metadata": {
        "id": "AzkP1Z4LqpD7"
      },
      "id": "AzkP1Z4LqpD7"
    },
    {
      "cell_type": "code",
      "source": [
        "# Создание маски пересечения bbox\n",
        "mask = np.zeros((200, 200), dtype=np.uint8)\n",
        "inter_x1 = max(boxA[0], boxB[0])\n",
        "inter_y1 = max(boxA[1], boxB[1])\n",
        "inter_x2 = min(boxA[2], boxB[2])\n",
        "inter_y2 = min(boxA[3], boxB[3])\n",
        "cv2.rectangle(mask, (inter_x1, inter_y1), (inter_x2, inter_y2), 255, -1)\n",
        "\n",
        "plt.imshow(mask, cmap='gray')\n",
        "plt.title(\"Mask of Overlap (Intersection)\")\n",
        "plt.axis('off')\n",
        "plt.show()\n"
      ],
      "metadata": {
        "colab": {
          "base_uri": "https://localhost:8080/",
          "height": 428
        },
        "id": "rWdF6dDkquXh",
        "outputId": "73d93591-7158-4745-837c-6ee83ddbacf1"
      },
      "id": "rWdF6dDkquXh",
      "execution_count": 9,
      "outputs": [
        {
          "output_type": "display_data",
          "data": {
            "text/plain": [
              "<Figure size 640x480 with 1 Axes>"
            ],
            "image/png": "[encoded data removed]"
          },
          "metadata": {}
        }
      ]
    },
    {
      "cell_type": "markdown",
      "source": [
        "# Тепловая карта ошибок:"
      ],
      "metadata": {
        "id": "iZdUKmCTrMM-"
      },
      "id": "iZdUKmCTrMM-"
    },
    {
      "cell_type": "code",
      "source": [
        "# Генерация искусственных IoU-значений по сетке\n",
        "heatmap = np.random.rand(10, 10)\n",
        "error_map = 1 - heatmap  # Ошибки = 1 - IoU\n",
        "\n",
        "plt.imshow(error_map, cmap='hot')\n",
        "plt.colorbar(label='Ошибка (1 - IoU)')\n",
        "plt.title(\"Heatmap ошибок предсказания\")\n",
        "plt.show()\n"
      ],
      "metadata": {
        "colab": {
          "base_uri": "https://localhost:8080/",
          "height": 452
        },
        "id": "drZv_IBirO2x",
        "outputId": "3d6d3cc7-64c7-4313-b432-bb03707e6997"
      },
      "id": "drZv_IBirO2x",
      "execution_count": 10,
      "outputs": [
        {
          "output_type": "display_data",
          "data": {
            "text/plain": [
              "<Figure size 640x480 with 2 Axes>"
            ],
            "image/png": "[encoded data removed]"
          },
          "metadata": {}
        }
      ]
    },
    {
      "cell_type": "markdown",
      "id": "604964b0",
      "metadata": {
        "id": "604964b0"
      },
      "source": [
        "## 3️⃣ Линейная алгебра: контроль глубины объекта в кадре\n",
        "Глубина ($Z$) — это расстояние от камеры до объекта. Она может быть вычислена:\n",
        "- через стереозрение: $Z = \\frac{f \\cdot B}{d}$\n",
        "- через относительный размер объекта в кадре:\n",
        "$$Z \\propto \\frac{H_{real}}{H_{image}}$$\n",
        "где $H_{real}$ — известная реальная высота объекта, $H_{image}$ — высота bbox в пикселях."
      ]
    },
    {
      "cell_type": "markdown",
      "source": [
        "### 📐 Формула стереозрения:\n",
        "\n",
        "$$\n",
        "Z = \\frac{f \\cdot B}{d}\n",
        "$$\n",
        "\n",
        "---\n",
        "\n",
        "### 🔍 Объяснение переменных:\n",
        "\n",
        "| Обозначение | Название             | Что означает                                                                 |\n",
        "|-------------|----------------------|------------------------------------------------------------------------------|\n",
        "| \\( Z \\)     | Глубина (Depth)      | Расстояние от камеры до объекта                                              |\n",
        "| \\( f \\)     | Фокусное расстояние  | Оптический параметр камеры (в пикселях); показывает, насколько сильно камера «приближает» |\n",
        "| \\( B \\)     | Базис (Baseline)     | Расстояние между двумя камерами (обычно в метрах или миллиметрах)           |\n",
        "| \\( d \\)     | Disparity (диспаритет) | Разность координат объекта на левом и правом изображениях: \\( d = x_{left} - x_{right} \\) |\n",
        "\n",
        "---\n",
        "\n",
        "### 🧠 Почему это работает?\n",
        "\n",
        "Когда один и тот же объект наблюдается с двух немного разных точек (две камеры или левый и правый глаз), он будет отображаться **на немного разных позициях** в кадре.\n",
        "\n",
        "- Чем **ближе объект**, тем **больше диспаритет** \\( d \\)\n",
        "- Чем **дальше объект**, тем **меньше диспаритет** \\( d \\)\n",
        "\n",
        "Формула показывает:\n",
        "- Больше \\( d \\) ⇒ объект ближе ⇒ \\( Z \\) меньше\n",
        "- Больше \\( f \\) или \\( B \\) ⇒ **точнее можно измерить** \\( Z \\)\n",
        "\n",
        "---\n",
        "\n",
        "### 📸 Фокусное расстояние \\( f \\) в пикселях?\n",
        "\n",
        "В компьютерном зрении \\( f \\) часто выражается в **пикселях**, а не в миллиметрах.  \n",
        "Обычно его получают из **матрицы внутренней калибровки камеры**:\n",
        "\n",
        "$$\n",
        "K =\n",
        "\\begin{bmatrix}\n",
        "f_x & 0 & c_x \\\\\\\\\n",
        "0 & f_y & c_y \\\\\\\\\n",
        "0 & 0 & 1\n",
        "\\end{bmatrix}\n",
        "$$\n",
        "\n",
        "- \\( f_x, f_y \\) — фокусное расстояние по осям \\( x, y \\) (в пикселях)\n",
        "- \\( c_x, c_y \\) — координаты центра изображения (principal point)\n",
        "\n",
        "---\n",
        "\n",
        "### 📘 Мы хотим найти:\n",
        "\n",
        "Как далеко находится объект от камеры?  \n",
        "Это расстояние и есть **глубина** — \\( Z \\)\n",
        "\n",
        "---\n",
        "\n",
        "### 🔎 Что означают переменные (ещё раз, просто):\n",
        "\n",
        "✅ \\( Z \\) — **что ищем** — глубина (например, 2.4 метра)  \n",
        "✅ \\( f \\) — как сильно камера приближает (в пикселях)  \n",
        "✅ \\( B \\) — насколько камеры разнесены друг от друга  \n",
        "✅ \\( d \\) — как сильно сместился объект на левом и правом изображении\n",
        "\n",
        "---\n",
        "\n",
        "### 📌 Пример:\n",
        "\n",
        "Пусть:\n",
        "- \\( f = 800 \\) пикселей (из калибровки)\n",
        "- \\( B = 0.06 \\) м (6 см между камерами)\n",
        "- \\( d = 30 \\) пикселей\n",
        "\n",
        "Тогда:\n",
        "\n",
        "$$\n",
        "Z = \\frac{800 \\cdot 0.06}{30} = \\frac{48}{30} = 1.6 \\text{ метра}\n",
        "$$\n",
        "\n",
        "---\n",
        "\n",
        "### 📷 Как это выглядит визуально:\n",
        "\n",
        "Ты смотришь двумя глазами. Если поднести палец к носу, он «раздваивается».  \n",
        "Это и есть **disparity**.  \n",
        "Две камеры делают то же самое — сравнивают положение объекта на двух изображениях, чтобы понять, **насколько он близко**.\n"
      ],
      "metadata": {
        "id": "N4UX-o_0nkCB"
      },
      "id": "N4UX-o_0nkCB"
    },
    {
      "cell_type": "code",
      "execution_count": 4,
      "id": "d49eac33",
      "metadata": {
        "colab": {
          "base_uri": "https://localhost:8080/"
        },
        "id": "d49eac33",
        "outputId": "1a04fc12-15d7-46d3-8c52-991b4bb4050c"
      },
      "outputs": [
        {
          "output_type": "stream",
          "name": "stdout",
          "text": [
            "Оценочная глубина: 8.00 метров\n"
          ]
        }
      ],
      "source": [
        "def estimate_depth(h_real_meters, h_bbox_pixels, focal_length_pixels=800):\n",
        "    return focal_length_pixels * h_real_meters / h_bbox_pixels\n",
        "\n",
        "depth = estimate_depth(1.7, 170)\n",
        "print(f\"Оценочная глубина: {depth:.2f} метров\")"
      ]
    },
    {
      "cell_type": "code",
      "execution_count": 5,
      "id": "2181c3be",
      "metadata": {
        "colab": {
          "base_uri": "https://localhost:8080/",
          "height": 472
        },
        "id": "2181c3be",
        "outputId": "f81fee02-2666-4ae8-cf8f-7f4631774882"
      },
      "outputs": [
        {
          "output_type": "display_data",
          "data": {
            "text/plain": [
              "<Figure size 640x480 with 1 Axes>"
            ],
            "image/png": "[encoded data removed]"
          },
          "metadata": {}
        }
      ],
      "source": [
        "bbox_heights = np.linspace(50, 400, 100)\n",
        "depths = [estimate_depth(1.7, h) for h in bbox_heights]\n",
        "plt.plot(bbox_heights, depths)\n",
        "plt.xlabel(\"Высота bbox (пиксели)\")\n",
        "plt.ylabel(\"Глубина (м)\")\n",
        "plt.title(\"Глубина от размера bbox\")\n",
        "plt.grid(True)\n",
        "plt.show()"
      ]
    },
    {
      "cell_type": "markdown",
      "id": "358544a4",
      "metadata": {
        "id": "358544a4"
      },
      "source": [
        "### 📝 Упражнение:\n",
        "1. Напиши функцию глубины и проверь для:\n",
        "   - Человека (1.7м), bbox=170px\n",
        "   - Стола (0.75м), bbox=90px\n",
        "   - Стула (0.5м), bbox=60px\n",
        "2. Построй график зависимости глубины от bbox\n",
        "3. Объясни, как можно повысить точность глубины при помощи калибровки камеры."
      ]
    },
    {
      "cell_type": "code",
      "source": [],
      "metadata": {
        "id": "r4mqE2bSoq48"
      },
      "id": "r4mqE2bSoq48",
      "execution_count": null,
      "outputs": []
    },
    {
      "cell_type": "code",
      "source": [
        "depth = estimate_depth(1.7, 170)\n",
        "print(f\"Оценочная глубина: {depth:.2f} метров\")"
      ],
      "metadata": {
        "colab": {
          "base_uri": "https://localhost:8080/"
        },
        "id": "-ySwlr_Mor1b",
        "outputId": "25646e42-e386-4fe3-e6ec-d2d6ca64ca10"
      },
      "id": "-ySwlr_Mor1b",
      "execution_count": 6,
      "outputs": [
        {
          "output_type": "stream",
          "name": "stdout",
          "text": [
            "Оценочная глубина: 8.00 метров\n"
          ]
        }
      ]
    },
    {
      "cell_type": "code",
      "source": [
        "depth = estimate_depth(0.75, 90)\n",
        "print(f\"Оценочная глубина: {depth:.2f} метров\")"
      ],
      "metadata": {
        "colab": {
          "base_uri": "https://localhost:8080/"
        },
        "id": "y6wxVPROowmP",
        "outputId": "96a1018b-57d6-4a45-99e8-2bff0431f4bc"
      },
      "id": "y6wxVPROowmP",
      "execution_count": 7,
      "outputs": [
        {
          "output_type": "stream",
          "name": "stdout",
          "text": [
            "Оценочная глубина: 6.67 метров\n"
          ]
        }
      ]
    },
    {
      "cell_type": "code",
      "source": [
        "depth = estimate_depth(0.5, 60)\n",
        "print(f\"Оценочная глубина: {depth:.2f} метров\")"
      ],
      "metadata": {
        "colab": {
          "base_uri": "https://localhost:8080/"
        },
        "id": "yGVPOAXQo4k_",
        "outputId": "39435d79-46c1-4471-a367-829d8520da22"
      },
      "id": "yGVPOAXQo4k_",
      "execution_count": 8,
      "outputs": [
        {
          "output_type": "stream",
          "name": "stdout",
          "text": [
            "Оценочная глубина: 6.67 метров\n"
          ]
        }
      ]
    },
    {
      "cell_type": "code",
      "source": [],
      "metadata": {
        "id": "PU-x_fRepAAR"
      },
      "id": "PU-x_fRepAAR",
      "execution_count": null,
      "outputs": []
    }
  ],
  "metadata": {
    "colab": {
      "provenance": [],
      "include_colab_link": true
    },
    "language_info": {
      "name": "python"
    },
    "kernelspec": {
      "name": "python3",
      "display_name": "Python 3"
    }
  },
  "nbformat": 4,
  "nbformat_minor": 5
}