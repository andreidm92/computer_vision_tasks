{
  "cells": [
    {
      "cell_type": "markdown",
      "metadata": {
        "id": "view-in-github",
        "colab_type": "text"
      },
      "source": [
        "<a href=\"https://colab.research.google.com/github/andreidm92/computer_vision_tasks/blob/main/practice/Lesson_29_segmentation_comparison.ipynb\" target=\"_parent\"><img src=\"https://colab.research.google.com/assets/colab-badge.svg\" alt=\"Open In Colab\"/></a>"
      ]
    },
    {
      "cell_type": "markdown",
      "id": "2a53eb04",
      "metadata": {
        "id": "2a53eb04"
      },
      "source": [
        "# 🧠 Урок 29: Сравнение методов сегментации\n",
        "### Semantic, Instance, Panoptic, SAM + Метрики + Практика + Линейная алгебра"
      ]
    },
    {
      "cell_type": "markdown",
      "id": "6997124e",
      "metadata": {
        "id": "6997124e"
      },
      "source": [
        "## 🧠 Сегментация в компьютерном зрении: Полный разбор"
      ]
    },
    {
      "cell_type": "markdown",
      "id": "9cba67a4",
      "metadata": {
        "id": "9cba67a4"
      },
      "source": [
        "\n",
        "### 📌 1. Semantic Segmentation\n",
        "\n",
        "**Задача:** Назначить каждому пикселю класса изображение метку — \"к чему он принадлежит\".\n",
        "\n",
        "$$\n",
        "\\forall (x, y) \\in I, \\quad f(x, y) \\rightarrow c \\in \\{C_1, C_2, ..., C_k\\}\n",
        "$$\n",
        "\n",
        "**Архитектуры:**  \n",
        "- FCN (Fully Convolutional Network)  \n",
        "- DeepLabV3+\n",
        "\n",
        "**Плюсы:**  \n",
        "- Подходит для классификации сред  \n",
        "- Быстрое обучение  \n",
        "- Прямолинейная архитектура  \n",
        "\n",
        "**Минусы:**  \n",
        "- Не различает экземпляры объектов\n"
      ]
    },
    {
      "cell_type": "markdown",
      "id": "f4f8fa16",
      "metadata": {
        "id": "f4f8fa16"
      },
      "source": [
        "\n",
        "### 📌 2. Instance Segmentation\n",
        "\n",
        "**Задача:** Назначить каждому объекту не только класс, но и уникальный ID.\n",
        "\n",
        "$$\n",
        "f(x, y) \\rightarrow (c_i, id_j)\n",
        "$$\n",
        "\n",
        "**Архитектура:**  \n",
        "- Mask R-CNN\n",
        "\n",
        "**Плюсы:**  \n",
        "- Отлично подходит для подсчета и трекинга\n",
        "\n",
        "**Минусы:**  \n",
        "- Требует больше вычислений и данных\n"
      ]
    },
    {
      "cell_type": "markdown",
      "id": "a465a785",
      "metadata": {
        "id": "a465a785"
      },
      "source": [
        "\n",
        "### 📌 3. Panoptic Segmentation\n",
        "\n",
        "**Цель:** Объединение semantic и instance: каждому пикселю — класс + уникальный экземпляр.\n",
        "\n",
        "$$\n",
        "f(x, y) \\rightarrow\n",
        "\\begin{cases}\n",
        "(c_i, id_j), & \\text{если } c_i \\in \\text{thing}\\\\\n",
        "c_k, & \\text{если } c_k \\in \\text{stuff}\n",
        "\\end{cases}\n",
        "$$\n",
        "\n",
        "**Архитектура:** Panoptic FPN\n",
        "\n",
        "**Метрика:**\n",
        "\n",
        "$$\n",
        "PQ = \\frac{\\sum_{(p, g) \\in TP} IoU(p, g)}{|TP| + \\frac{1}{2}|FP| + \\frac{1}{2}|FN|}\n",
        "$$\n"
      ]
    },
    {
      "cell_type": "markdown",
      "id": "ed3543b5",
      "metadata": {
        "id": "ed3543b5"
      },
      "source": [
        "\n",
        "### 📌 4. Prompt-Based Segmentation (SAM)\n",
        "\n",
        "**Segment Anything Model (SAM):**  \n",
        "- Вход: изображение + prompt  \n",
        "- Выход: маска  \n",
        "- Архитектура: ViT + Prompt Encoder + Mask Decoder  \n",
        "\n",
        "**Преимущества:**  \n",
        "- Zero-shot сегментация  \n",
        "- Универсальный подход  \n",
        "- Подходит для интерактивных задач\n"
      ]
    },
    {
      "cell_type": "markdown",
      "id": "b3c4885d",
      "metadata": {
        "id": "b3c4885d"
      },
      "source": [
        "\n",
        "## 📊 Метрики оценки сегментации\n",
        "\n",
        "| Метрика | Формула | Описание |\n",
        "|--------|---------|----------|\n",
        "| **IoU** | $$ IoU = \\frac{|A \\cap B|}{|A \\cup B|} $$ | Intersection over Union |\n",
        "| **mIoU** | $$ mIoU = \\frac{1}{K} \\sum_{i=1}^K IoU_i $$ | Среднее по классам |\n",
        "| **PQ** | см. выше | Panoptic Quality: комбинирует точность и полноту\n"
      ]
    },
    {
      "cell_type": "markdown",
      "id": "014781c7",
      "metadata": {
        "id": "014781c7"
      },
      "source": [
        "\n",
        "## 🧭 Когда использовать что?\n",
        "\n",
        "| Сценарий | Метод |\n",
        "|----------|-------|\n",
        "| Автомобильный автопилот | Panoptic |\n",
        "| Медицинская диагностика | Semantic |\n",
        "| Подсчёт и трекинг людей | Instance |\n",
        "| Интерактивная разметка | SAM\n"
      ]
    },
    {
      "cell_type": "markdown",
      "id": "a1c7bf7e",
      "metadata": {
        "id": "a1c7bf7e"
      },
      "source": [
        "## 🧪 OpenCV практика: визуализация сегментации"
      ]
    },
    {
      "cell_type": "code",
      "execution_count": 1,
      "id": "3c8b6091",
      "metadata": {
        "colab": {
          "base_uri": "https://localhost:8080/",
          "height": 332
        },
        "id": "3c8b6091",
        "outputId": "f43371da-531b-4cea-8cd4-21c4c22d3afd"
      },
      "outputs": [
        {
          "output_type": "display_data",
          "data": {
            "text/plain": [
              "<Figure size 1200x400 with 3 Axes>"
            ],
            "image/png": "[encoded data removed]"
          },
          "metadata": {}
        }
      ],
      "source": [
        "import cv2\n",
        "import numpy as np\n",
        "import matplotlib.pyplot as plt\n",
        "\n",
        "def overlay_mask(image, mask, alpha=0.5, color=(0, 255, 0)):\n",
        "    overlay = image.copy()\n",
        "    overlay[mask > 0] = color\n",
        "    return cv2.addWeighted(image, 1 - alpha, overlay, alpha, 0)\n",
        "\n",
        "# Заглушка изображения и масок\n",
        "image = np.ones((256, 256, 3), dtype=np.uint8) * 255\n",
        "semantic_mask = np.zeros((256, 256), dtype=np.uint8)\n",
        "instance_mask = np.zeros((256, 256), dtype=np.uint8)\n",
        "sam_mask = np.zeros((256, 256), dtype=np.uint8)\n",
        "\n",
        "# Рисуем объекты\n",
        "cv2.circle(semantic_mask, (80, 80), 50, 1, -1)\n",
        "cv2.rectangle(instance_mask, (150, 150), (220, 220), 1, -1)\n",
        "cv2.ellipse(sam_mask, (128, 64), (40, 20), 0, 0, 360, 1, -1)\n",
        "\n",
        "# Визуализация\n",
        "plt.figure(figsize=(12, 4))\n",
        "plt.subplot(1, 3, 1)\n",
        "plt.title(\"Semantic\")\n",
        "plt.imshow(overlay_mask(image, semantic_mask, color=(0, 255, 0)))\n",
        "plt.axis(\"off\")\n",
        "\n",
        "plt.subplot(1, 3, 2)\n",
        "plt.title(\"Instance\")\n",
        "plt.imshow(overlay_mask(image, instance_mask, color=(255, 0, 0)))\n",
        "plt.axis(\"off\")\n",
        "\n",
        "plt.subplot(1, 3, 3)\n",
        "plt.title(\"SAM\")\n",
        "plt.imshow(overlay_mask(image, sam_mask, color=(0, 0, 255)))\n",
        "plt.axis(\"off\")\n",
        "\n",
        "plt.show()\n"
      ]
    },
    {
      "cell_type": "markdown",
      "source": [
        "🧩 Функция наложения маски на изображение\n",
        "\n",
        "\n",
        "def overlay_mask(image, mask, alpha=0.5, color=(0, 255, 0)):\n",
        "    overlay = image.copy()\n",
        "    overlay[mask > 0] = color\n",
        "    return cv2.addWeighted(image, 1 - alpha, overlay, alpha, 0)\n",
        "\n",
        "\n",
        "Разберём по шагам:\n",
        "\n",
        "\n",
        "overlay = image.copy() — создаём копию изображения, чтобы не менять оригинал.\n",
        "\n",
        "overlay[mask > 0] = color — где маска > 0, накладываем заданный цвет.\n",
        "\n",
        "mask > 0 — бинарная маска (True/False) для определения областей сегментации.\n",
        "\n",
        "\n",
        "cv2.addWeighted — смешиваем оригинал и маску:\n",
        "\n",
        "result=image⋅(1−α)+overlay⋅α\n",
        "Это делает наложение прозрачным (на 50%).\n",
        "\n",
        "\n",
        "🖼 Создание заглушек (фейковые изображения и маски)\n",
        "\n",
        "\n",
        "image = np.ones((256, 256, 3), dtype=np.uint8) * 255\n",
        "Создаёт белое изображение 256x256 с 3 каналами (RGB).\n",
        "\n",
        "semantic_mask = np.zeros((256, 256), dtype=np.uint8)\n",
        "instance_mask = np.zeros((256, 256), dtype=np.uint8)\n",
        "sam_mask = np.zeros((256, 256), dtype=np.uint8)\n",
        "\n",
        "\n",
        "Три маски (все чёрные изначально, значения 0).\n",
        "\n",
        "\n",
        "✏️ Рисуем объекты на масках\n",
        "\n",
        "cv2.circle(semantic_mask, (80, 80), 50, 1, -1)\n",
        "Рисует круг в semantic_mask радиусом 50, центр — точка (80, 80), значение пикселя = 1.\n",
        "\n",
        "-1 — означает заливку (не контур, а полная область).\n",
        "\n",
        "cv2.rectangle(instance_mask, (150, 150), (220, 220), 1, -1)\n",
        "Прямоугольник для instance сегментации, также заливается.\n",
        "\n",
        "\n",
        "cv2.ellipse(sam_mask, (128, 64), (40, 20), 0, 0, 360, 1, -1)\n",
        "Эллипс (примерно имитирует произвольную форму SAM маски), центр в (128, 64), размер 40×20.\n",
        "\n",
        "\n",
        "🔍 Визуализация масок\n",
        "\n",
        "\n",
        "plt.figure(figsize=(12, 4))\n",
        "Создаёт холст для 3 изображений шириной 12 и высотой 4 дюйма.\n",
        "\n",
        "python\n",
        "Копировать\n",
        "Редактировать\n",
        "plt.subplot(1, 3, 1)  # первая из трех\n",
        "plt.title(\"Semantic\")\n",
        "plt.imshow(overlay_mask(image, semantic_mask, color=(0, 255, 0)))\n",
        "plt.axis(\"off\")\n",
        "Отображает маску semantic зелёным цветом.\n",
        "\n",
        "То же самое для:\n",
        "\n",
        "Instance → красным (255, 0, 0)\n",
        "\n",
        "SAM → синим (0, 0, 255)\n",
        "\n",
        "📊 Итог\n",
        "Ты получаешь 3 изображения рядом:\n",
        "\n",
        "Первое — наложена semantic маска\n",
        "\n",
        "Второе — instance\n",
        "\n",
        "Третье — SAM\n",
        "\n",
        "Каждое из них окрашено своим цветом и накладывается поверх исходного.\n",
        "\n"
      ],
      "metadata": {
        "id": "ZiwIX-3JfJRY"
      },
      "id": "ZiwIX-3JfJRY"
    },
    {
      "cell_type": "markdown",
      "id": "4e1fe377",
      "metadata": {
        "id": "4e1fe377"
      },
      "source": [
        "## 📐 Линейная алгебра: координатные системы и переходы"
      ]
    },
    {
      "cell_type": "markdown",
      "id": "acd5e944",
      "metadata": {
        "id": "acd5e944"
      },
      "source": [
        "\n",
        "### Однородные координаты\n",
        "\n",
        "$$\n",
        "\\begin{bmatrix}\n",
        "x' \\\\ y' \\\\ 1\n",
        "\\end{bmatrix}\n",
        "=\n",
        "\\begin{bmatrix}\n",
        "R & t \\\\ 0 & 1\n",
        "\\end{bmatrix}\n",
        "\\cdot\n",
        "\\begin{bmatrix}\n",
        "x \\\\ y \\\\ 1\n",
        "\\end{bmatrix}\n",
        "$$\n",
        "\n",
        "Поворот и смещение:\n",
        "\n",
        "$$\n",
        "T =\n",
        "\\begin{bmatrix}\n",
        "\\cos\\theta & -\\sin\\theta & t_x \\\\\n",
        "\\sin\\theta & \\cos\\theta & t_y \\\\\n",
        "0 & 0 & 1\n",
        "\\end{bmatrix}\n",
        "$$\n",
        "\n",
        "Обратное преобразование:\n",
        "\n",
        "$$\n",
        "T^{-1} =\n",
        "\\begin{bmatrix}\n",
        "R^T & -R^T t \\\\\n",
        "0 & 1\n",
        "\\end{bmatrix}\n",
        "$$\n"
      ]
    },
    {
      "cell_type": "code",
      "execution_count": 6,
      "id": "a518544c",
      "metadata": {
        "colab": {
          "base_uri": "https://localhost:8080/"
        },
        "id": "a518544c",
        "outputId": "491d2e14-a17a-4c35-cc00-3cff5624c707"
      },
      "outputs": [
        {
          "output_type": "stream",
          "name": "stdout",
          "text": [
            "Исходная точка: [2 3]\n",
            "После преобразования: [9.29289322 8.53553391]\n"
          ]
        }
      ],
      "source": [
        "import numpy as np\n",
        "\n",
        "theta = np.deg2rad(45)\n",
        "tx, ty = 10, 5\n",
        "\n",
        "T = np.array([\n",
        "    [np.cos(theta), -np.sin(theta), tx],\n",
        "    [np.sin(theta),  np.cos(theta), ty],\n",
        "    [0, 0, 1]\n",
        "])\n",
        "\n",
        "p = np.array([2, 3, 1])\n",
        "p_new = T @ p\n",
        "\n",
        "print(\"Исходная точка:\", p[:2])\n",
        "print(\"После преобразования:\", p_new[:2])\n"
      ]
    },
    {
      "cell_type": "code",
      "source": [
        "import numpy as np\n",
        "\n",
        "# Угол поворота\n",
        "theta = np.deg2rad(45)\n",
        "\n",
        "# Смещение\n",
        "tx, ty = 10, 5\n",
        "\n",
        "# Матрица поворота R\n",
        "R = np.array([\n",
        "    [np.cos(theta), -np.sin(theta)],\n",
        "    [np.sin(theta),  np.cos(theta)]\n",
        "])\n",
        "\n",
        "# Вектор смещения\n",
        "t = np.array([[tx], [ty]])\n",
        "\n",
        "# Матрица T (3x3 однородная)\n",
        "T = np.eye(3)\n",
        "T[:2, :2] = R\n",
        "T[:2, 2:] = t\n",
        "\n",
        "print(\"T =\\n\", T)\n",
        "\n",
        "# Вычисляем обратную матрицу T^{-1}\n",
        "T_inv = np.eye(3)\n",
        "T_inv[:2, :2] = R.T                  # Транспонируем R\n",
        "T_inv[:2, 2] = -R.T @ t[:, 0]        # Обратный перенос\n",
        "\n",
        "print(\"T⁻¹ =\\n\", T_inv)\n"
      ],
      "metadata": {
        "colab": {
          "base_uri": "https://localhost:8080/"
        },
        "id": "4QZr8uycj5XN",
        "outputId": "f5e8819d-345b-4b2f-b6b8-545979ebc92e"
      },
      "id": "4QZr8uycj5XN",
      "execution_count": 7,
      "outputs": [
        {
          "output_type": "stream",
          "name": "stdout",
          "text": [
            "T =\n",
            " [[ 0.70710678 -0.70710678 10.        ]\n",
            " [ 0.70710678  0.70710678  5.        ]\n",
            " [ 0.          0.          1.        ]]\n",
            "T⁻¹ =\n",
            " [[  0.70710678   0.70710678 -10.60660172]\n",
            " [ -0.70710678   0.70710678   3.53553391]\n",
            " [  0.           0.           1.        ]]\n"
          ]
        }
      ]
    },
    {
      "cell_type": "code",
      "source": [
        "# Угол поворота\n",
        "theta = np.deg2rad(30)\n",
        "\n",
        "# Смещение\n",
        "tx, ty = 10, 5\n",
        "\n",
        "# Матрица поворота R\n",
        "R = np.array([\n",
        "    [np.cos(theta), -np.sin(theta)],\n",
        "    [np.sin(theta),  np.cos(theta)]\n",
        "])\n",
        "\n",
        "# Вектор смещения\n",
        "t = np.array([[tx], [ty]])\n",
        "\n",
        "# Матрица T (3x3 однородная)\n",
        "T = np.eye(3)\n",
        "T[:2, :2] = R\n",
        "T"
      ],
      "metadata": {
        "colab": {
          "base_uri": "https://localhost:8080/"
        },
        "id": "A5eAurtYj9QJ",
        "outputId": "e9111a18-c10e-4a30-dfcb-dcdd95608cc5"
      },
      "id": "A5eAurtYj9QJ",
      "execution_count": 5,
      "outputs": [
        {
          "output_type": "execute_result",
          "data": {
            "text/plain": [
              "array([[ 0.8660254, -0.5      ,  0.       ],\n",
              "       [ 0.5      ,  0.8660254,  0.       ],\n",
              "       [ 0.       ,  0.       ,  1.       ]])"
            ]
          },
          "metadata": {},
          "execution_count": 5
        }
      ]
    },
    {
      "cell_type": "markdown",
      "source": [
        "📌 Что здесь происходит?\n",
        "Создаём R — матрицу поворота на\n",
        "𝜃\n",
        "θ\n",
        "\n",
        "Формируем T — однородную матрицу 3×3\n",
        "\n",
        "Обратная матрица:\n",
        "\n",
        "𝑅\n",
        "𝑇\n",
        "R\n",
        "T\n",
        "  — поворот в обратную сторону\n",
        "\n",
        "−\n",
        "𝑅\n",
        "𝑇\n",
        "⋅\n",
        "𝑡\n",
        "−R\n",
        "T\n",
        " ⋅t — компенсируем смещение\n",
        "\n",
        "\n",
        "\n",
        "\n",
        "🔁 Проверка:\n",
        "Можешь проверить корректность:"
      ],
      "metadata": {
        "id": "Tjd-M8l0lOqN"
      },
      "id": "Tjd-M8l0lOqN"
    },
    {
      "cell_type": "code",
      "source": [
        "p = np.array([2, 3, 1])\n",
        "p_prime = T @ p\n",
        "p_restored = T_inv @ p_prime\n",
        "\n",
        "print(\"Исходная точка:\", p[:2])\n",
        "print(\"После прямого преобразования:\", p_prime[:2])\n",
        "print(\"После обратного:\", p_restored[:2])  # Должно ≈ p[:2]\n"
      ],
      "metadata": {
        "colab": {
          "base_uri": "https://localhost:8080/"
        },
        "id": "TIbc4bwvkoa5",
        "outputId": "5cec6e4e-bb5d-441c-ea51-2ea9bb8969f8"
      },
      "id": "TIbc4bwvkoa5",
      "execution_count": 8,
      "outputs": [
        {
          "output_type": "stream",
          "name": "stdout",
          "text": [
            "Исходная точка: [2 3]\n",
            "После прямого преобразования: [9.29289322 8.53553391]\n",
            "После обратного: [2. 3.]\n"
          ]
        }
      ]
    },
    {
      "cell_type": "code",
      "source": [],
      "metadata": {
        "id": "km3a1MfblbzP"
      },
      "id": "km3a1MfblbzP",
      "execution_count": null,
      "outputs": []
    }
  ],
  "metadata": {
    "colab": {
      "provenance": [],
      "include_colab_link": true
    },
    "language_info": {
      "name": "python"
    },
    "kernelspec": {
      "name": "python3",
      "display_name": "Python 3"
    }
  },
  "nbformat": 4,
  "nbformat_minor": 5
}