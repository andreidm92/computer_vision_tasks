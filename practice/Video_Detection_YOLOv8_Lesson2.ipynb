{
  "cells": [
    {
      "cell_type": "markdown",
      "metadata": {
        "id": "view-in-github",
        "colab_type": "text"
      },
      "source": [
        "<a href=\"https://colab.research.google.com/github/andreidm92/computer_vision_tasks/blob/main/practice/Video_Detection_YOLOv8_Lesson2.ipynb\" target=\"_parent\"><img src=\"https://colab.research.google.com/assets/colab-badge.svg\" alt=\"Open In Colab\"/></a>"
      ]
    },
    {
      "cell_type": "markdown",
      "id": "2e5a0434",
      "metadata": {
        "id": "2e5a0434"
      },
      "source": [
        "# 🎯 Практика: Пайплайн видео + YOLOv8 (День 2)"
      ]
    },
    {
      "cell_type": "markdown",
      "source": [
        "**Теория: Пайплайн видео + YOLOv8**\n",
        "Что мы будем строить:\n",
        "\n",
        "Захват видео с камеры или файла через cv2.VideoCapture.\n",
        "\n",
        "Построчная обработка каждого кадра.\n",
        "\n",
        "Передача кадра в модель YOLOv8 для детекции объектов.\n",
        "\n",
        "Отрисовка предсказаний поверх кадра (bounding boxes, метки объектов).\n",
        "\n",
        "Показ кадра на экране в реальном времени.\n",
        "\n",
        "(Дополнительно) Сохранение видео с результатами обработки.\n",
        "\n",
        "**Мини-архитектура пайплайна**\n",
        "css\n",
        "Копировать\n",
        "Редактировать\n",
        "[Video Input] → [Чтение кадра] → [YOLOv8 инференс] → [Постпроцессинг] → [Отображение/Запись]\n",
        "\n"
      ],
      "metadata": {
        "id": "0G18uH_WK6sO"
      },
      "id": "0G18uH_WK6sO"
    },
    {
      "cell_type": "markdown",
      "source": [
        "**Что такое YOLOv8**\n",
        "\n",
        "YOLO (You Only Look Once) — один из самых быстрых и эффективных алгоритмов детекции объектов.\n",
        "\n",
        "v8 — последняя версия (от Ultralytics) с улучшением скорости и качества.\n",
        "\n",
        "YOLOv8 поддерживает работу без анкор-боксов, имеет встроенные улучшенные слои и мощные постпроцессоры.\n",
        "\n",
        "Плюсы YOLOv8:\n",
        "\n",
        "Очень быстро обрабатывает кадры на CPU и GPU.\n",
        "\n",
        "Легко интегрируется в пайплайн видео.\n",
        "\n",
        "Удобный API через библиотеку ultralytics."
      ],
      "metadata": {
        "id": "pr3Ds83fLSYT"
      },
      "id": "pr3Ds83fLSYT"
    },
    {
      "cell_type": "code",
      "execution_count": null,
      "id": "a7c155d8",
      "metadata": {
        "id": "a7c155d8"
      },
      "outputs": [],
      "source": [
        "!pip install ultralytics\n",
        "!pip install opencv-python"
      ]
    },
    {
      "cell_type": "code",
      "execution_count": null,
      "id": "1fda5ab7",
      "metadata": {
        "id": "1fda5ab7"
      },
      "outputs": [],
      "source": [
        "import cv2\n",
        "from ultralytics import YOLO"
      ]
    },
    {
      "cell_type": "code",
      "execution_count": null,
      "id": "4032f9d6",
      "metadata": {
        "id": "4032f9d6"
      },
      "outputs": [],
      "source": [
        "# Загрузка видео\n",
        "video_path = '/content/video_1.mp4'\n",
        "\n",
        "# Загрузка модели\n",
        "model = YOLO('yolov8n.pt')\n",
        "\n",
        "# Открытие видео\n",
        "cap = cv2.VideoCapture(video_path)\n",
        "\n",
        "# Подготовка записи обработанного видео\n",
        "fourcc = cv2.VideoWriter_fourcc(*'mp4v')\n",
        "out = cv2.VideoWriter('/content/output_video_1.mp4', fourcc, 20.0, (int(cap.get(3)), int(cap.get(4))))\n",
        "# int(cap.get(3)), int(cap.get(4)))\n",
        "# cap.get(3) - это значит: Обратись к объекту cap (видео), Получи свойство с номером 3, Свойство 3 = ширина видео в пикселях."
      ]
    },
    {
      "cell_type": "code",
      "execution_count": null,
      "id": "fe42cf15",
      "metadata": {
        "id": "fe42cf15"
      },
      "outputs": [],
      "source": [
        "'''\n",
        "Что такое кодек в OpenCV\n",
        "Когда мы записываем видео через cv2.VideoWriter, мы создаём новый видеофайл.\n",
        "\n",
        "Кодек (от англ. \"coder-decoder\") — это способ кодирования видео данных в определённый формат:\n",
        "\n",
        "Как упаковать кадры в файл,\n",
        "\n",
        "Как сохранить сжатием или без,\n",
        "\n",
        "Какой стандарт использовать для воспроизведения видео.\n",
        "\n",
        "Почему без кодека нельзя просто \"записать\" видео?\n",
        "Когда ты записываешь много кадров (картинок) подряд:\n",
        "\n",
        "Без кодека это были бы просто \"сырые\" пиксели (непонятный набор данных).\n",
        "\n",
        "Кодек делает так, чтобы из набора кадров получилось реальное видео, которое может воспроизвести любой видеоплеер.\n",
        "\n",
        "Что именно делает эта строка:\n",
        "python\n",
        "Копировать\n",
        "Редактировать\n",
        "fourcc = cv2.VideoWriter_fourcc(*'mp4v')\n",
        "🔵 Она создаёт кодек mp4v (MPEG-4 Video codec):\n",
        "\n",
        "Это популярный кодек для .mp4 файлов.\n",
        "\n",
        "Его поддерживают почти все плееры и платформы.\n",
        "\n",
        "Функция cv2.VideoWriter_fourcc принимает 4 символа (например, 'm', 'p', '4', 'v') и превращает их в код для записи видео.\n",
        "\n",
        "Потом кодек передаётся сюда:\n",
        "python\n",
        "Копировать\n",
        "Редактировать\n",
        "out = cv2.VideoWriter('/content/output_video.mp4', fourcc, 20.0, (ширина, высота))\n",
        "🔵 Что делает VideoWriter:\n",
        "\n",
        "Создаёт файл /content/output_video.mp4\n",
        "\n",
        "Сохраняет в него кадры со скоростью 20 fps (кадров в секунду),\n",
        "\n",
        "Использует кодек mp4v для правильного кодирования и упаковки видео.\n",
        "\n",
        "'''"
      ]
    },
    {
      "cell_type": "code",
      "execution_count": null,
      "id": "f1ded6a8",
      "metadata": {
        "id": "f1ded6a8"
      },
      "outputs": [],
      "source": [
        "'''\n",
        "Что такое results в YOLOv8\n",
        "Когда ты делаешь results = model(frame), модель возвращает список объектов типа ultralytics.engine.results.Results.\n",
        "\n",
        "Каждый элемент results[i] содержит:\n",
        "\n",
        "boxes — координаты ограничивающих прямоугольников (bounding boxes).\n",
        "\n",
        "scores — confidence-оценки (уверенность модели).\n",
        "\n",
        "classes — классы объектов (например, 0 — человек, 2 — автомобиль).\n",
        "\n",
        "+ еще: маски, keypoints (если есть).\n",
        "\n",
        "То есть results[0] это не просто список координат!\n",
        "Это целый объект с множеством информации.\n",
        "'''\n",
        "\n",
        "while cap.isOpened():\n",
        "    ret, frame = cap.read()\n",
        "    # ret — это флаг, который показывает, получилось ли считать кадр (True или False)\n",
        "    if not ret:\n",
        "        break\n",
        "\n",
        "    # Детекция объектов\n",
        "    results = model(frame)\n",
        "    # Модель возвращает результаты детекции: bounding boxes, классы объектов, confidence scores.\n",
        "\n",
        "    # Отрисовка результатов\n",
        "    annotated_frame = results[0].plot()\n",
        "\n",
        "    # Сохранение кадра в выходной файл\n",
        "    out.write(annotated_frame)\n",
        "\n",
        "cap.release()\n",
        "out.release()\n",
        "\n",
        "print(\"Готово! Видео сохранено в /content/output_video_1.mp4\")\n"
      ]
    },
    {
      "cell_type": "code",
      "execution_count": null,
      "id": "8533972f",
      "metadata": {
        "id": "8533972f"
      },
      "outputs": [],
      "source": []
    }
  ],
  "metadata": {
    "colab": {
      "provenance": [],
      "include_colab_link": true
    },
    "kernelspec": {
      "display_name": "Python 3",
      "name": "python3"
    },
    "language_info": {
      "name": "python"
    }
  },
  "nbformat": 4,
  "nbformat_minor": 5
}