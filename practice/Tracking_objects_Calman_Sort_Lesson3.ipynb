{
  "cells": [
    {
      "cell_type": "markdown",
      "metadata": {
        "id": "view-in-github",
        "colab_type": "text"
      },
      "source": [
        "<a href=\"https://colab.research.google.com/github/andreidm92/computer_vision_tasks/blob/main/practice/Tracking_objects_Calman_Sort_Lesson3.ipynb\" target=\"_parent\"><img src=\"https://colab.research.google.com/assets/colab-badge.svg\" alt=\"Open In Colab\"/></a>"
      ]
    },
    {
      "cell_type": "markdown",
      "id": "c89bcc94",
      "metadata": {
        "id": "c89bcc94"
      },
      "source": [
        "\n",
        "## 🧠 Что такое \"трек\" в трекинге?\n",
        "\n",
        "**Трек (track)** — это объект, отслеживаемый во времени: его ID, координаты, скорость, статус (активен, потерян, удалён).\n",
        "\n",
        "**Цикл жизни трека:**\n",
        "\n",
        "- 🔵 Новый объект обнаружен → создаётся новый трек (инициализация)\n",
        "- 🟢 Каждый следующий кадр: если детекция найдена рядом — трек обновляется\n",
        "- 🟡 Если детекция пропала — трек переходит в статус \"потерян\"\n",
        "- 🔴 Если объект не появляется N кадров подряд — трек удаляется\n",
        "\n",
        "Состояние трека в DeepSORT:\n",
        "- Confirmed — трек существует и стабилен\n",
        "- Tentative — только что создан, ждет подтверждения\n",
        "- Deleted — удален, больше не используется\n",
        "\n",
        "Треки обеспечивают: стабильные ID, восстановление после occlusion, прогноз движения.\n"
      ]
    },
    {
      "cell_type": "markdown",
      "source": [],
      "metadata": {
        "id": "zIJYT0_GcTC_"
      },
      "id": "zIJYT0_GcTC_"
    },
    {
      "cell_type": "markdown",
      "source": [],
      "metadata": {
        "id": "Y0u9VuzTcTRq"
      },
      "id": "Y0u9VuzTcTRq"
    },
    {
      "cell_type": "markdown",
      "source": [
        "\n",
        "## 📐 Kalman фильтр: Основы\n",
        "\n",
        "Kalman фильтр — это метод оценки состояния динамической системы с учетом шума. В CV он предсказывает положение объектов.\n",
        "\n",
        "Состояние объекта:\n",
        "\n",
        "$$\n",
        "\\mathbf{x} = \\begin{bmatrix}\n",
        "x \\\\\n",
        "y \\\\\n",
        "s \\\\\n",
        "r \\\\\n",
        "\\dot{x} \\\\\n",
        "\\dot{y} \\\\\n",
        "\\dot{s}\n",
        "\\end{bmatrix}\n",
        "$$\n",
        "\n",
        "Процесс предсказания:\n",
        "\n",
        "$$\n",
        "\\mathbf{x}_{t|t-1} = \\mathbf{F} \\mathbf{x}_{t-1|t-1}\n",
        "$$\n",
        "\n",
        "Обновление по измерению:\n",
        "\n",
        "$$\n",
        "\\mathbf{x}_{t|t} = \\mathbf{x}_{t|t-1} + \\mathbf{K}(\\mathbf{z}_t - \\mathbf{H} \\mathbf{x}_{t|t-1})\n",
        "$$\n",
        "\n",
        "Где:\n",
        "\n",
        "- $\\mathbf{F}$ — матрица перехода  \n",
        "- $\\mathbf{z}_t$ — измерение (например, bbox от YOLO)  \n",
        "- $\\mathbf{H}$ — матрица наблюдения  \n",
        "- $\\mathbf{K}$ — матрица Калмана (вес измерения vs предсказания)\n"
      ],
      "metadata": {
        "id": "d-u48P2Mb_UI"
      },
      "id": "d-u48P2Mb_UI"
    },
    {
      "cell_type": "markdown",
      "source": [
        "\n",
        "## 🔍 Пошаговый пример работы Венгерского алгоритма\n",
        "\n",
        "Пусть у нас есть матрица стоимости:\n",
        "\n",
        "$$\n",
        "C = \\begin{bmatrix}\n",
        "4 & 2 & 3 \\\\\n",
        "1 & 0 & 2 \\\\\n",
        "3 & 5 & 2\n",
        "\\end{bmatrix}\n",
        "$$\n",
        "\n",
        "### Шаг 1: Вычитаем минимум по строкам\n",
        "\n",
        "- Строка 1: $[4,2,3] \\rightarrow [2,0,1]$  \n",
        "- Строка 2: $[1,0,2] \\rightarrow [1,0,2]$  \n",
        "- Строка 3: $[3,5,2] \\rightarrow [1,3,0]$\n",
        "\n",
        "Матрица после вычитания по строкам:\n",
        "\n",
        "$$\n",
        "\\begin{bmatrix}\n",
        "2 & 0 & 1 \\\\\n",
        "1 & 0 & 2 \\\\\n",
        "1 & 3 & 0\n",
        "\\end{bmatrix}\n",
        "$$\n",
        "\n",
        "### Шаг 2: Вычитаем минимум по столбцам\n",
        "\n",
        "- Столбец 1: минимум = 1 → $[2,1,1] \\rightarrow [1,0,0]$  \n",
        "- Столбец 2: минимум = 0  \n",
        "- Столбец 3: минимум = 0\n",
        "\n",
        "После двух вычитаний:\n",
        "\n",
        "$$\n",
        "\\begin{bmatrix}\n",
        "1 & 0 & 1 \\\\\n",
        "0 & 0 & 2 \\\\\n",
        "0 & 3 & 0\n",
        "\\end{bmatrix}\n",
        "$$\n",
        "\n",
        "### Шаг 3: Покрываем нули минимальным числом линий\n",
        "\n",
        "Покрываем:\n",
        "- Строку 2 (нулей 2)\n",
        "- Столбец 1 (нулей 2)\n",
        "- Столбец 3 (1 ноль)\n",
        "\n",
        "→ Используем $3$ линии, что соответствует размеру матрицы $3 \\times 3$ → можно переходить к построению назначений.\n",
        "\n",
        "**Результат назначения:**\n",
        "- Трек 1 → Детекция 2  \n",
        "- Трек 2 → Детекция 1  \n",
        "- Трек 3 → Детекция 3  \n",
        "Суммарная стоимость: **2 + 1 + 2 = 5**\n"
      ],
      "metadata": {
        "id": "_LhsviLDcfpq"
      },
      "id": "_LhsviLDcfpq"
    },
    {
      "cell_type": "markdown",
      "id": "23fb0d5d",
      "metadata": {
        "id": "23fb0d5d"
      },
      "source": [
        "# 🛠️ ЧАСТЬ 2: Практика — YOLOv8 + SORT в Google Colab"
      ]
    },
    {
      "cell_type": "code",
      "source": [
        "# Установка библиотек\n",
        "!pip install ultralytics filterpy opencv-python deep_sort_realtime --quiet"
      ],
      "metadata": {
        "id": "tCKZ4EBahKGD"
      },
      "id": "tCKZ4EBahKGD",
      "execution_count": null,
      "outputs": []
    },
    {
      "cell_type": "code",
      "source": [
        "# 📥 Скачивание SORT\n",
        "!git clone https://github.com/abewley/sort.git\n",
        "%cd sort\n"
      ],
      "metadata": {
        "id": "UXUZZlsniAYj"
      },
      "id": "UXUZZlsniAYj",
      "execution_count": null,
      "outputs": []
    },
    {
      "cell_type": "code",
      "source": [
        "# 1) Пути к файлам\n",
        "input_path  = '/content/Vence.MP4'\n",
        "output_path = '/content/output_sort.mp4'\n",
        "\n",
        "# 2) Импорт и инициализация\n",
        "import cv2\n",
        "import torch\n",
        "from ultralytics import YOLO\n",
        "from deep_sort_realtime.deepsort_tracker import DeepSort\n",
        "from IPython.display import HTML\n",
        "from base64 import b64encode"
      ],
      "metadata": {
        "id": "dEOoTBMHtL16"
      },
      "id": "dEOoTBMHtL16",
      "execution_count": null,
      "outputs": []
    },
    {
      "cell_type": "code",
      "execution_count": null,
      "id": "a9ace32e",
      "metadata": {
        "id": "a9ace32e"
      },
      "outputs": [],
      "source": [
        "# 3) Загрузка модели YOLO и отправка на GPU\n",
        "model = YOLO('yolov8n.pt').to('cuda')\n",
        "\n",
        "# 4) Инициализация трекера DeepSORT с использованием GPU\n",
        "tracker = DeepSort(max_age=30, embedder_gpu=True)\n",
        "\n",
        "# 5) Захват видео и настройки\n",
        "cap = cv2.VideoCapture(input_path)\n",
        "fps = cap.get(cv2.CAP_PROP_FPS)\n",
        "w = int(cap.get(cv2.CAP_PROP_FRAME_WIDTH))\n",
        "h = int(cap.get(cv2.CAP_PROP_FRAME_HEIGHT))\n",
        "\n",
        "fourcc = cv2.VideoWriter_fourcc(*'mp4v')\n",
        "out = cv2.VideoWriter(output_path, fourcc, fps, (w, h))\n",
        "\n",
        "# 6) Основной цикл обработки кадров\n",
        "frame_id = 0\n",
        "while True:\n",
        "    ret, frame = cap.read()\n",
        "    if not ret:\n",
        "        break\n",
        "\n",
        "    frame_id += 1\n",
        "    if frame_id % 30 == 0:\n",
        "        print(f'Processing frame {frame_id}')\n",
        "\n",
        "    # 6.1) Детекция объектов с YOLOv8\n",
        "    with torch.no_grad():\n",
        "        results = model(frame)[0]\n",
        "\n",
        "    # 6.2) Подготовка детекций для DeepSORT\n",
        "    detections = []\n",
        "    for *box, conf, cls in results.boxes.data.cpu().numpy():\n",
        "        if conf < 0.5:\n",
        "            continue\n",
        "        x1, y1, x2, y2 = map(int, box)\n",
        "        w_box, h_box = x2 - x1, y2 - y1\n",
        "        detections.append(([x1, y1, w_box, h_box], float(conf), int(cls)))\n",
        "\n",
        "    # 6.3) Обновление трекера\n",
        "    tracks = tracker.update_tracks(detections, frame=frame)\n",
        "\n",
        "    # 6.4) Отрисовка траекторий объектов\n",
        "    for track in tracks:\n",
        "        if not track.is_confirmed():\n",
        "            continue\n",
        "        l, t, r, b = map(int, track.to_ltrb())\n",
        "        tid = track.track_id\n",
        "        cv2.rectangle(frame, (l, t), (r, b), (0, 255, 0), 2)\n",
        "        cv2.putText(frame, f'ID: {tid}', (l, t - 10),\n",
        "                    cv2.FONT_HERSHEY_SIMPLEX, 0.6, (0, 255, 0), 2)\n",
        "\n",
        "    # 6.5) Сохранение кадра\n",
        "    out.write(frame)\n",
        "\n",
        "# 7) Завершение работы\n",
        "cap.release()\n",
        "out.release()\n",
        "\n",
        "# 8) Отображение видео внутри Colab\n",
        "with open(output_path, 'rb') as f:\n",
        "    mp4 = f.read()\n",
        "data_url = \"data:video/mp4;base64,\" + b64encode(mp4).decode()\n",
        "HTML(f\"\"\"<video width=640 controls>\n",
        "           <source src=\"{data_url}\" type=\"video/mp4\">\n",
        "         </video>\"\"\")\n"
      ]
    },
    {
      "cell_type": "markdown",
      "id": "922db999",
      "metadata": {
        "id": "922db999"
      },
      "source": [
        "#🛠️ ЧАСТЬ 3: Фильтр Калмана\n"
      ]
    },
    {
      "cell_type": "code",
      "execution_count": null,
      "id": "6044c6dd",
      "metadata": {
        "id": "6044c6dd"
      },
      "outputs": [],
      "source": [
        "from filterpy.kalman import KalmanFilter\n",
        "import numpy as np\n",
        "import matplotlib.pyplot as plt\n",
        "\n",
        "# Инициализация Kalman фильтра\n",
        "kf = KalmanFilter(dim_x=2, dim_z=1)\n",
        "kf.x = np.array([0., 0.])\n",
        "kf.F = np.array([[1,1],[0,1]])\n",
        "kf.H = np.array([[1,0]])\n",
        "kf.P *= 1000.\n",
        "kf.R = 5\n",
        "kf.Q = 0.1 * np.eye(2)\n",
        "\n",
        "np.random.seed(0)\n",
        "zs = [i + np.random.randn()*5 for i in range(50)]\n",
        "\n",
        "predictions = []\n",
        "for z in zs:\n",
        "    kf.predict()\n",
        "    kf.update(z)\n",
        "    predictions.append(kf.x[0])\n",
        "\n",
        "plt.figure(figsize=(10,4))\n",
        "plt.plot(zs, label='Измерения')\n",
        "plt.plot(predictions, label='Kalman предсказания')\n",
        "plt.title(\"1D Kalman Tracking\")\n",
        "plt.xlabel(\"Кадры\")\n",
        "plt.ylabel(\"Позиция\")\n",
        "plt.grid()\n",
        "plt.legend()\n",
        "plt.show()\n"
      ]
    },
    {
      "cell_type": "code",
      "execution_count": null,
      "id": "a4e5d4ac",
      "metadata": {
        "id": "a4e5d4ac"
      },
      "outputs": [],
      "source": []
    },
    {
      "cell_type": "markdown",
      "id": "b4f6df6a",
      "metadata": {
        "id": "b4f6df6a"
      },
      "source": []
    },
    {
      "cell_type": "markdown",
      "id": "6a1c39f2",
      "metadata": {
        "id": "6a1c39f2"
      },
      "source": []
    }
  ],
  "metadata": {
    "colab": {
      "provenance": [],
      "gpuType": "T4",
      "include_colab_link": true
    },
    "language_info": {
      "name": "python"
    },
    "kernelspec": {
      "name": "python3",
      "display_name": "Python 3"
    },
    "accelerator": "GPU"
  },
  "nbformat": 4,
  "nbformat_minor": 5
}