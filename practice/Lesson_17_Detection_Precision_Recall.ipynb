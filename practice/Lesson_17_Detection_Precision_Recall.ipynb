{
  "cells": [
    {
      "cell_type": "markdown",
      "metadata": {
        "id": "view-in-github",
        "colab_type": "text"
      },
      "source": [
        "<a href=\"https://colab.research.google.com/github/andreidm92/computer_vision_tasks/blob/main/practice/Lesson_17_Detection_Precision_Recall.ipynb\" target=\"_parent\"><img src=\"https://colab.research.google.com/assets/colab-badge.svg\" alt=\"Open In Colab\"/></a>"
      ]
    },
    {
      "cell_type": "markdown",
      "id": "2425e90c",
      "metadata": {
        "id": "2425e90c"
      },
      "source": [
        "# 🧠 Lesson 17: Detection Metrics — Precision, Recall, mAP"
      ]
    },
    {
      "cell_type": "markdown",
      "id": "4282c007",
      "metadata": {
        "id": "4282c007"
      },
      "source": [
        "\n",
        "## 📚 Теория: Precision, Recall, mAP\n",
        "\n",
        "### 1. **True Positive / False Positive / False Negative**\n",
        "\n",
        "Перед оценкой модели, важно правильно определять:\n",
        "- **True Positive (TP)** — модель правильно обнаружила объект.\n",
        "- **False Positive (FP)** — модель сработала, но объекта на самом деле нет.\n",
        "- **False Negative (FN)** — модель **не заметила** объект, который был.\n",
        "\n",
        "Для object detection TP/FP/FN считаются на основе **IoU (Intersection over Union)** между предсказанным и реальным bbox.\n",
        "\n",
        "#### 📐 IoU:\n",
        "\n",
        "$$\n",
        "IoU = \\frac{Area(B_{pred} \\cap B_{gt})}{Area(B_{pred} \\cup B_{gt})}\n",
        "$$\n",
        "\n",
        "Если IoU > 0.5 (или другой порог), считаем это TP. Иначе — FP.  \n",
        "Если никакой bbox не пересекается с объектом GT — это FN.\n",
        "\n",
        "---\n",
        "\n",
        "### 2. **Precision и Recall**\n",
        "\n",
        "#### 📊 Precision:\n",
        "\"Из всех найденных объектов — сколько правильных?\"\n",
        "\n",
        "$$\n",
        "Precision = \\frac{TP}{TP + FP}\n",
        "$$\n",
        "\n",
        "#### 📊 Recall:\n",
        "\"Из всех существующих объектов — сколько найдены?\"\n",
        "\n",
        "$$\n",
        "Recall = \\frac{TP}{TP + FN}\n",
        "$$\n",
        "\n",
        "---\n",
        "\n",
        "### 3. **Precision-Recall кривая**\n",
        "\n",
        "- Чем выше порог — меньше bbox → Precision ↑, но Recall ↓\n",
        "- Чем ниже порог — больше bbox → Recall ↑, но могут быть FP → Precision ↓\n",
        "\n",
        "---\n",
        "\n",
        "### 4. **AP — Average Precision**\n",
        "\n",
        "**AP** — это площадь под кривой Precision-Recall.\n",
        "\n",
        "#### Дискретное приближение:\n",
        "\n",
        "$$\n",
        "AP = \\sum_n (R_n - R_{n-1}) \\cdot P_n\n",
        "$$\n",
        "\n",
        "> На практике могут использовать разные методы интерполяции.  \n",
        "> Например, **11-point interpolation (Pascal VOC)** или **all-points interpolation (COCO)**.\n",
        "\n",
        "---\n",
        "\n",
        "### 5. **mAP — mean Average Precision**\n",
        "\n",
        "$$\n",
        "mAP = \\frac{1}{N} \\sum_{i=1}^{N} AP_i\n",
        "$$\n",
        "\n",
        "В COCO mAP считают при разных порогах IoU от 0.5 до 0.95 с шагом 0.05:\n",
        "\n",
        "$$\n",
        "mAP@[.5:.95] = \\frac{1}{10} \\sum_{i=0}^{9} AP_{0.5 + 0.05i}\n",
        "$$\n"
      ]
    },
    {
      "cell_type": "code",
      "execution_count": 1,
      "id": "383f4e6e",
      "metadata": {
        "colab": {
          "base_uri": "https://localhost:8080/"
        },
        "id": "383f4e6e",
        "outputId": "38095816-6e51-4c73-98ee-a5b2ce056859"
      },
      "outputs": [
        {
          "output_type": "execute_result",
          "data": {
            "text/plain": [
              "0.14285714285714285"
            ]
          },
          "metadata": {},
          "execution_count": 1
        }
      ],
      "source": [
        "\n",
        "## 📐 Реализация IoU\n",
        "\n",
        "def compute_iou(box1, box2):\n",
        "    # Compute Intersection over Union (IoU) between two bounding boxes.\n",
        "    # Format for each box: [x1, y1, x2, y2]\n",
        "    x_left = max(box1[0], box2[0])\n",
        "    y_top = max(box1[1], box2[1])\n",
        "    x_right = min(box1[2], box2[2])\n",
        "    y_bottom = min(box1[3], box2[3])\n",
        "\n",
        "    if x_right < x_left or y_bottom < y_top:\n",
        "        return 0.0\n",
        "\n",
        "    intersection = (x_right - x_left) * (y_bottom - y_top)\n",
        "    area_box1 = (box1[2] - box1[0]) * (box1[3] - box1[1])\n",
        "    area_box2 = (box2[2] - box2[0]) * (box2[3] - box2[1])\n",
        "    union = area_box1 + area_box2 - intersection\n",
        "\n",
        "    return intersection / union\n",
        "\n",
        "# Пример:\n",
        "boxA = [50, 50, 150, 150]\n",
        "boxB = [100, 100, 200, 200]\n",
        "compute_iou(boxA, boxB)\n"
      ]
    },
    {
      "cell_type": "code",
      "execution_count": 2,
      "id": "743a7c50",
      "metadata": {
        "colab": {
          "base_uri": "https://localhost:8080/",
          "height": 472
        },
        "id": "743a7c50",
        "outputId": "58ec533e-f114-4af1-d208-9294a2ae01f2"
      },
      "outputs": [
        {
          "output_type": "display_data",
          "data": {
            "text/plain": [
              "<Figure size 640x480 with 1 Axes>"
            ],
            "image/png": "[encoded data removed]"
          },
          "metadata": {}
        }
      ],
      "source": [
        "\n",
        "## 📊 Построение Precision-Recall кривой\n",
        "\n",
        "import numpy as np\n",
        "import matplotlib.pyplot as plt\n",
        "\n",
        "# Предсказания: [confidence, TP or FP]\n",
        "predictions = [\n",
        "    (0.9, 1),\n",
        "    (0.8, 1),\n",
        "    (0.7, 0),\n",
        "    (0.6, 1),\n",
        "    (0.5, 0),\n",
        "]\n",
        "\n",
        "# Сортировка по confidence\n",
        "predictions.sort(reverse=True)\n",
        "\n",
        "tp = 0\n",
        "fp = 0\n",
        "precisions = []\n",
        "recalls = []\n",
        "\n",
        "num_gt = 3  # допустим, в датасете 3 объекта\n",
        "\n",
        "for conf, is_tp in predictions:\n",
        "    if is_tp:\n",
        "        tp += 1\n",
        "    else:\n",
        "        fp += 1\n",
        "    precision = tp / (tp + fp)\n",
        "    recall = tp / num_gt\n",
        "    precisions.append(precision)\n",
        "    recalls.append(recall)\n",
        "\n",
        "plt.figure()\n",
        "plt.plot(recalls, precisions, marker='o')\n",
        "plt.xlabel('Recall')\n",
        "plt.ylabel('Precision')\n",
        "plt.title('Precision-Recall Curve')\n",
        "plt.grid(True)\n",
        "plt.show()\n"
      ]
    },
    {
      "cell_type": "code",
      "execution_count": 3,
      "id": "a32ee4f2",
      "metadata": {
        "colab": {
          "base_uri": "https://localhost:8080/"
        },
        "id": "a32ee4f2",
        "outputId": "4f9ce2ad-16f0-41c4-c3e8-8a21ee0b0c7d"
      },
      "outputs": [
        {
          "output_type": "execute_result",
          "data": {
            "text/plain": [
              "0.5833333333333333"
            ]
          },
          "metadata": {},
          "execution_count": 3
        }
      ],
      "source": [
        "\n",
        "## 📈 Вычисление AP по PR кривой (прямоугольное приближение)\n",
        "\n",
        "def average_precision(recalls, precisions):\n",
        "    ap = 0.0\n",
        "    for i in range(1, len(recalls)):\n",
        "        ap += (recalls[i] - recalls[i - 1]) * precisions[i]\n",
        "    return ap\n",
        "\n",
        "average_precision(recalls, precisions)\n"
      ]
    },
    {
      "cell_type": "markdown",
      "source": [
        "\n",
        "## 🔁 Реалистичный пример: автоматическое определение TP/FP\n",
        "\n",
        "Здесь мы имитируем реальную ситуацию:\n",
        "- есть ground truth боксы\n",
        "- есть предсказанные боксы с confidence\n",
        "- мы автоматически определяем TP и FP на основе IoU и порога IoU\n",
        "\n",
        "Подход:\n",
        "1. Сравниваем каждый предсказанный bbox с GT по IoU\n",
        "2. Назначаем TP, если IoU > 0.5 и GT еще не занят\n",
        "3. Остальные считаем FP\n"
      ],
      "metadata": {
        "id": "SkLxWhW0cxX2"
      },
      "id": "SkLxWhW0cxX2"
    },
    {
      "cell_type": "code",
      "source": [
        "import numpy as np\n",
        "\n",
        "def compute_iou(box1, box2):\n",
        "    x_left = max(box1[0], box2[0])\n",
        "    y_top = max(box1[1], box2[1])\n",
        "    x_right = min(box1[2], box2[2])\n",
        "    y_bottom = min(box1[3], box2[3])\n",
        "    if x_right < x_left or y_bottom < y_top:\n",
        "        return 0.0\n",
        "    inter = (x_right - x_left) * (y_bottom - y_top)\n",
        "    area1 = (box1[2] - box1[0]) * (box1[3] - box1[1])\n",
        "    area2 = (box2[2] - box2[0]) * (box2[3] - box2[1])\n",
        "    union = area1 + area2 - inter\n",
        "    return inter / union\n",
        "\n",
        "# Ground truth\n",
        "gt_boxes = [\n",
        "    [50, 50, 150, 150],\n",
        "    [200, 200, 300, 300],\n",
        "    [120, 50, 220, 150]\n",
        "]\n",
        "\n",
        "# Предсказания: [x1, y1, x2, y2, confidence]\n",
        "pred_boxes = [\n",
        "    [55, 55, 145, 145, 0.95],  # TP\n",
        "    [205, 205, 295, 295, 0.9],  # TP\n",
        "    [100, 100, 180, 180, 0.8],  # FP\n",
        "    [120, 55, 215, 145, 0.7],   # TP\n",
        "    [50, 50, 150, 150, 0.6],    # FP (дубликат)\n",
        "]\n",
        "\n",
        "# Сортировка по убыванию confidence\n",
        "pred_boxes.sort(key=lambda x: x[4], reverse=True)\n",
        "\n",
        "matched_gt = set()\n",
        "results = []  # (confidence, is_tp)\n",
        "\n",
        "for pred in pred_boxes:\n",
        "    pred_box = pred[:4]\n",
        "    conf = pred[4]\n",
        "    best_iou = 0\n",
        "    best_gt_idx = -1\n",
        "\n",
        "    for idx, gt in enumerate(gt_boxes):\n",
        "        iou = compute_iou(pred_box, gt)\n",
        "        if iou > best_iou:\n",
        "            best_iou = iou\n",
        "            best_gt_idx = idx\n",
        "\n",
        "    if best_iou >= 0.5 and best_gt_idx not in matched_gt:\n",
        "        matched_gt.add(best_gt_idx)\n",
        "        results.append((conf, 1))  # TP\n",
        "    else:\n",
        "        results.append((conf, 0))  # FP\n",
        "\n",
        "print(\"Предсказания с метками TP/FP:\")\n",
        "for conf, label in results:\n",
        "    print(f\"Confidence: {conf}, {'TP' if label else 'FP'}\")\n",
        "\n",
        "# Построение PR кривой\n",
        "tp = 0\n",
        "fp = 0\n",
        "precisions = []\n",
        "recalls = []\n",
        "num_gt = len(gt_boxes)\n",
        "\n",
        "for conf, is_tp in results:\n",
        "    if is_tp:\n",
        "        tp += 1\n",
        "    else:\n",
        "        fp += 1\n",
        "    precisions.append(tp / (tp + fp))\n",
        "    recalls.append(tp / num_gt)\n",
        "\n",
        "import matplotlib.pyplot as plt\n",
        "plt.figure()\n",
        "plt.plot(recalls, precisions, marker='o')\n",
        "plt.xlabel('Recall')\n",
        "plt.ylabel('Precision')\n",
        "plt.title('PR кривая — Реалистичный пример')\n",
        "plt.grid(True)\n",
        "plt.show()\n"
      ],
      "metadata": {
        "colab": {
          "base_uri": "https://localhost:8080/",
          "height": 576
        },
        "id": "M2GFeKkadA8c",
        "outputId": "f2147dfd-e78b-4874-eaee-766af23d452c"
      },
      "id": "M2GFeKkadA8c",
      "execution_count": 4,
      "outputs": [
        {
          "output_type": "stream",
          "name": "stdout",
          "text": [
            "Предсказания с метками TP/FP:\n",
            "Confidence: 0.95, TP\n",
            "Confidence: 0.9, TP\n",
            "Confidence: 0.8, FP\n",
            "Confidence: 0.7, TP\n",
            "Confidence: 0.6, FP\n"
          ]
        },
        {
          "output_type": "display_data",
          "data": {
            "text/plain": [
              "<Figure size 640x480 with 1 Axes>"
            ],
            "image/png": "[encoded data removed]"
          },
          "metadata": {}
        }
      ]
    },
    {
      "cell_type": "markdown",
      "id": "0364bff3",
      "metadata": {
        "id": "0364bff3"
      },
      "source": [
        "\n",
        "## 🧪 OpenCV: Визуализация TP / FP боксов\n",
        "\n",
        "Чтобы визуально анализировать качество предсказаний:\n",
        "- Нарисуем ground truth (зелёным)\n",
        "- Нарисуем TP (синим)\n",
        "- Нарисуем FP (красным)\n",
        "- Покажем IoU над bbox\n",
        "\n",
        "Эта визуализация помогает сразу понять:\n",
        "- Какие объекты пропущены (FN)\n",
        "- Где были FP\n",
        "- Как качественно модель локализует объекты\n"
      ]
    },
    {
      "cell_type": "code",
      "execution_count": 5,
      "id": "15442966",
      "metadata": {
        "colab": {
          "base_uri": "https://localhost:8080/",
          "height": 521
        },
        "id": "15442966",
        "outputId": "f82001e3-bcca-42f8-8324-4cbc43dc89d0"
      },
      "outputs": [
        {
          "output_type": "display_data",
          "data": {
            "text/plain": [
              "<Figure size 600x600 with 1 Axes>"
            ],
            "image/png": "[encoded data removed]"
          },
          "metadata": {}
        }
      ],
      "source": [
        "\n",
        "import cv2\n",
        "import numpy as np\n",
        "import matplotlib.pyplot as plt\n",
        "\n",
        "# Создадим пустое изображение\n",
        "image = np.ones((400, 400, 3), dtype=np.uint8) * 255\n",
        "\n",
        "# Ground truth bbox\n",
        "gt_box = [50, 50, 150, 150]\n",
        "cv2.rectangle(image, (gt_box[0], gt_box[1]), (gt_box[2], gt_box[3]), (0, 255, 0), 2)  # Green\n",
        "\n",
        "# Предсказанные боксы: [x1, y1, x2, y2, confidence]\n",
        "pred_boxes = [\n",
        "    [55, 60, 145, 155, 0.9],  # TP (высокий IoU)\n",
        "    [120, 120, 220, 220, 0.6],  # FP (низкий IoU)\n",
        "]\n",
        "\n",
        "for box in pred_boxes:\n",
        "    pred = box[:4]\n",
        "    iou = compute_iou(gt_box, pred)\n",
        "    color = (255, 0, 0) if iou >= 0.5 else (0, 0, 255)  # TP: blue, FP: red\n",
        "    cv2.rectangle(image, (pred[0], pred[1]), (pred[2], pred[3]), color, 2)\n",
        "    cv2.putText(image, f\"IoU: {iou:.2f}\", (pred[0], pred[1]-10), cv2.FONT_HERSHEY_SIMPLEX, 0.5, color, 1)\n",
        "\n",
        "# Отобразим изображение\n",
        "plt.figure(figsize=(6,6))\n",
        "plt.imshow(cv2.cvtColor(image, cv2.COLOR_BGR2RGB))\n",
        "plt.title(\"GT (Green), TP (Blue), FP (Red)\")\n",
        "plt.axis(False)\n",
        "plt.show()\n"
      ]
    },
    {
      "cell_type": "markdown",
      "id": "860d9e74",
      "metadata": {
        "id": "860d9e74"
      },
      "source": [
        "\n",
        "## 🧮 Линейная алгебра: Собственные значения и векторы\n",
        "\n",
        "### 🔍 Определение\n",
        "\n",
        "Пусть дана квадратная матрица \\( A \\in \\mathbb{R}^{n \\times n} \\).  \n",
        "Вектор \\( \\vec{v} \\) называется **собственным вектором**, если:\n",
        "\n",
        "$$\n",
        "A \\vec{v} = \\lambda \\vec{v}\n",
        "$$\n",
        "\n",
        "где:\n",
        "- \\( \\lambda \\) — **собственное значение**\n",
        "- \\( \\vec{v} \\ne 0 \\) — собственный вектор\n",
        "\n",
        "Это означает, что при применении линейного преобразования \\( A \\) вектор \\( \\vec{v} \\) **не меняет направление**, только масштабируется.\n",
        "\n",
        "---\n",
        "\n",
        "### 📐 Геометрический смысл\n",
        "\n",
        "- Собственные векторы показывают **направления инвариантности**.\n",
        "- В компьютерном зрении это важно, например:\n",
        "  - PCA (главные компоненты) — для снижения размерности\n",
        "  - Harris Corner Detection\n",
        "  - Диагонализация ковариационных матриц\n",
        "\n",
        "---\n",
        "\n",
        "### 🧠 Как находить\n",
        "\n",
        "Для матрицы \\( A \\):\n",
        "\n",
        "$$\n",
        "\\det(A - \\lambda I) = 0\n",
        "$$\n",
        "\n",
        "Решая это уравнение по \\( \\lambda \\), мы находим собственные значения.\n",
        "\n",
        "Затем подставляем каждое \\( \\lambda \\) и решаем \\( (A - \\lambda I)\\vec{v} = 0 \\), чтобы найти векторы.\n",
        "\n",
        "---\n",
        "\n",
        "### 🧪 Пример\n"
      ]
    },
    {
      "cell_type": "code",
      "execution_count": 6,
      "id": "6c69579d",
      "metadata": {
        "colab": {
          "base_uri": "https://localhost:8080/"
        },
        "id": "6c69579d",
        "outputId": "df3c1fac-8011-4b82-951c-894d41407e9b"
      },
      "outputs": [
        {
          "output_type": "stream",
          "name": "stdout",
          "text": [
            "Собственные значения: [3. 1.]\n",
            "Собственные векторы (столбцы):\n",
            " [[ 0.70710678 -0.70710678]\n",
            " [ 0.70710678  0.70710678]]\n",
            "\n",
            "Проверка для λ = 3.00:\n",
            "A @ v = [2.12132034 2.12132034]\n",
            "λ * v = [2.12132034 2.12132034]\n",
            "\n",
            "Проверка для λ = 1.00:\n",
            "A @ v = [-0.70710678  0.70710678]\n",
            "λ * v = [-0.70710678  0.70710678]\n"
          ]
        }
      ],
      "source": [
        "\n",
        "import numpy as np\n",
        "\n",
        "# Матрица\n",
        "A = np.array([[2, 1],\n",
        "              [1, 2]])\n",
        "\n",
        "# Вычислим собственные значения и векторы\n",
        "eigvals, eigvecs = np.linalg.eig(A)\n",
        "\n",
        "print(\"Собственные значения:\", eigvals)\n",
        "print(\"Собственные векторы (столбцы):\\n\", eigvecs)\n",
        "\n",
        "# Проверим A v = lambda v\n",
        "for i in range(len(eigvals)):\n",
        "    Av = A @ eigvecs[:, i]\n",
        "    lv = eigvals[i] * eigvecs[:, i]\n",
        "    print(f\"\\nПроверка для λ = {eigvals[i]:.2f}:\")\n",
        "    print(\"A @ v =\", Av)\n",
        "    print(\"λ * v =\", lv)\n"
      ]
    },
    {
      "cell_type": "code",
      "source": [],
      "metadata": {
        "id": "v5eGyR5kf54G"
      },
      "id": "v5eGyR5kf54G",
      "execution_count": null,
      "outputs": []
    }
  ],
  "metadata": {
    "colab": {
      "provenance": [],
      "include_colab_link": true
    },
    "language_info": {
      "name": "python"
    },
    "kernelspec": {
      "name": "python3",
      "display_name": "Python 3"
    }
  },
  "nbformat": 4,
  "nbformat_minor": 5
}