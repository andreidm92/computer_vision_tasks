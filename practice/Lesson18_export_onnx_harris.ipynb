{
  "cells": [
    {
      "cell_type": "markdown",
      "metadata": {
        "id": "view-in-github",
        "colab_type": "text"
      },
      "source": [
        "<a href=\"https://colab.research.google.com/github/andreidm92/computer_vision_tasks/blob/main/practice/Lesson18_export_onnx_harris.ipynb\" target=\"_parent\"><img src=\"https://colab.research.google.com/assets/colab-badge.svg\" alt=\"Open In Colab\"/></a>"
      ]
    },
    {
      "cell_type": "markdown",
      "id": "63b0a562",
      "metadata": {
        "id": "63b0a562"
      },
      "source": [
        "# 📦 Урок 18 — Экспорт модели в ONNX + Препроцессинг + Harris Corner Detection\n",
        "\n",
        "_Дата: 2025-05-16_"
      ]
    },
    {
      "cell_type": "markdown",
      "id": "26433185",
      "metadata": {
        "id": "26433185"
      },
      "source": [
        "\n",
        "## 🔷 Часть 1: Экспорт модели в ONNX\n",
        "\n",
        "ONNX (Open Neural Network Exchange) — это формат, который позволяет переносить модели между фреймворками. Давайте экспортируем модель YOLOv8.\n",
        "\n",
        "### ✅ Установка\n",
        "```bash\n",
        "pip install ultralytics onnx onnxruntime\n",
        "```\n",
        "\n",
        "### 🚀 Экспорт YOLOv8 в ONNX\n",
        "```python\n",
        "from ultralytics import YOLO\n",
        "\n",
        "# Загружаем YOLOv8n\n",
        "model = YOLO('yolov8n.pt')\n",
        "\n",
        "# Экспортируем модель в ONNX\n",
        "model.export(format='onnx')\n",
        "```\n",
        "\n",
        "### 📎 Проверка корректности ONNX модели\n",
        "```python\n",
        "import onnx\n",
        "\n",
        "onnx_model = onnx.load(\"yolov8n.onnx\")\n",
        "onnx.checker.check_model(onnx_model)\n",
        "print(\"ONNX модель валидна!\")\n",
        "```\n"
      ]
    },
    {
      "cell_type": "code",
      "source": [
        "pip install ultralytics onnx onnxruntime"
      ],
      "metadata": {
        "colab": {
          "base_uri": "https://localhost:8080/"
        },
        "id": "Mlr0MSjF6JAZ",
        "outputId": "37dd37f9-23ee-4005-d4b7-bd8232e75266"
      },
      "id": "Mlr0MSjF6JAZ",
      "execution_count": 1,
      "outputs": [
        {
          "output_type": "stream",
          "name": "stdout",
          "text": [
            "Collecting ultralytics\n",
            "  Downloading ultralytics-8.3.136-py3-none-any.whl.metadata (37 kB)\n",
            "Collecting onnx\n",
            "  Downloading onnx-1.18.0-cp311-cp311-manylinux_2_17_x86_64.manylinux2014_x86_64.whl.metadata (6.9 kB)\n",
            "Collecting onnxruntime\n",
            "  Downloading onnxruntime-1.22.0-cp311-cp311-manylinux_2_27_x86_64.manylinux_2_28_x86_64.whl.metadata (4.5 kB)\n",
            "Requirement already satisfied: numpy>=1.23.0 in /usr/local/lib/python3.11/dist-packages (from ultralytics) (2.0.2)\n",
            "Requirement already satisfied: matplotlib>=3.3.0 in /usr/local/lib/python3.11/dist-packages (from ultralytics) (3.10.0)\n",
            "Requirement already satisfied: opencv-python>=4.6.0 in /usr/local/lib/python3.11/dist-packages (from ultralytics) (4.11.0.86)\n",
            "Requirement already satisfied: pillow>=7.1.2 in /usr/local/lib/python3.11/dist-packages (from ultralytics) (11.2.1)\n",
            "Requirement already satisfied: pyyaml>=5.3.1 in /usr/local/lib/python3.11/dist-packages (from ultralytics) (6.0.2)\n",
            "Requirement already satisfied: requests>=2.23.0 in /usr/local/lib/python3.11/dist-packages (from ultralytics) (2.32.3)\n",
            "Requirement already satisfied: scipy>=1.4.1 in /usr/local/lib/python3.11/dist-packages (from ultralytics) (1.15.3)\n",
            "Requirement already satisfied: torch>=1.8.0 in /usr/local/lib/python3.11/dist-packages (from ultralytics) (2.6.0+cu124)\n",
            "Requirement already satisfied: torchvision>=0.9.0 in /usr/local/lib/python3.11/dist-packages (from ultralytics) (0.21.0+cu124)\n",
            "Requirement already satisfied: tqdm>=4.64.0 in /usr/local/lib/python3.11/dist-packages (from ultralytics) (4.67.1)\n",
            "Requirement already satisfied: psutil in /usr/local/lib/python3.11/dist-packages (from ultralytics) (5.9.5)\n",
            "Requirement already satisfied: py-cpuinfo in /usr/local/lib/python3.11/dist-packages (from ultralytics) (9.0.0)\n",
            "Requirement already satisfied: pandas>=1.1.4 in /usr/local/lib/python3.11/dist-packages (from ultralytics) (2.2.2)\n",
            "Collecting ultralytics-thop>=2.0.0 (from ultralytics)\n",
            "  Downloading ultralytics_thop-2.0.14-py3-none-any.whl.metadata (9.4 kB)\n",
            "Requirement already satisfied: protobuf>=4.25.1 in /usr/local/lib/python3.11/dist-packages (from onnx) (5.29.4)\n",
            "Requirement already satisfied: typing_extensions>=4.7.1 in /usr/local/lib/python3.11/dist-packages (from onnx) (4.13.2)\n",
            "Collecting coloredlogs (from onnxruntime)\n",
            "  Downloading coloredlogs-15.0.1-py2.py3-none-any.whl.metadata (12 kB)\n",
            "Requirement already satisfied: flatbuffers in /usr/local/lib/python3.11/dist-packages (from onnxruntime) (25.2.10)\n",
            "Requirement already satisfied: packaging in /usr/local/lib/python3.11/dist-packages (from onnxruntime) (24.2)\n",
            "Requirement already satisfied: sympy in /usr/local/lib/python3.11/dist-packages (from onnxruntime) (1.13.1)\n",
            "Requirement already satisfied: contourpy>=1.0.1 in /usr/local/lib/python3.11/dist-packages (from matplotlib>=3.3.0->ultralytics) (1.3.2)\n",
            "Requirement already satisfied: cycler>=0.10 in /usr/local/lib/python3.11/dist-packages (from matplotlib>=3.3.0->ultralytics) (0.12.1)\n",
            "Requirement already satisfied: fonttools>=4.22.0 in /usr/local/lib/python3.11/dist-packages (from matplotlib>=3.3.0->ultralytics) (4.58.0)\n",
            "Requirement already satisfied: kiwisolver>=1.3.1 in /usr/local/lib/python3.11/dist-packages (from matplotlib>=3.3.0->ultralytics) (1.4.8)\n",
            "Requirement already satisfied: pyparsing>=2.3.1 in /usr/local/lib/python3.11/dist-packages (from matplotlib>=3.3.0->ultralytics) (3.2.3)\n",
            "Requirement already satisfied: python-dateutil>=2.7 in /usr/local/lib/python3.11/dist-packages (from matplotlib>=3.3.0->ultralytics) (2.9.0.post0)\n",
            "Requirement already satisfied: pytz>=2020.1 in /usr/local/lib/python3.11/dist-packages (from pandas>=1.1.4->ultralytics) (2025.2)\n",
            "Requirement already satisfied: tzdata>=2022.7 in /usr/local/lib/python3.11/dist-packages (from pandas>=1.1.4->ultralytics) (2025.2)\n",
            "Requirement already satisfied: charset-normalizer<4,>=2 in /usr/local/lib/python3.11/dist-packages (from requests>=2.23.0->ultralytics) (3.4.2)\n",
            "Requirement already satisfied: idna<4,>=2.5 in /usr/local/lib/python3.11/dist-packages (from requests>=2.23.0->ultralytics) (3.10)\n",
            "Requirement already satisfied: urllib3<3,>=1.21.1 in /usr/local/lib/python3.11/dist-packages (from requests>=2.23.0->ultralytics) (2.4.0)\n",
            "Requirement already satisfied: certifi>=2017.4.17 in /usr/local/lib/python3.11/dist-packages (from requests>=2.23.0->ultralytics) (2025.4.26)\n",
            "Requirement already satisfied: filelock in /usr/local/lib/python3.11/dist-packages (from torch>=1.8.0->ultralytics) (3.18.0)\n",
            "Requirement already satisfied: networkx in /usr/local/lib/python3.11/dist-packages (from torch>=1.8.0->ultralytics) (3.4.2)\n",
            "Requirement already satisfied: jinja2 in /usr/local/lib/python3.11/dist-packages (from torch>=1.8.0->ultralytics) (3.1.6)\n",
            "Requirement already satisfied: fsspec in /usr/local/lib/python3.11/dist-packages (from torch>=1.8.0->ultralytics) (2025.3.2)\n",
            "Collecting nvidia-cuda-nvrtc-cu12==12.4.127 (from torch>=1.8.0->ultralytics)\n",
            "  Downloading nvidia_cuda_nvrtc_cu12-12.4.127-py3-none-manylinux2014_x86_64.whl.metadata (1.5 kB)\n",
            "Collecting nvidia-cuda-runtime-cu12==12.4.127 (from torch>=1.8.0->ultralytics)\n",
            "  Downloading nvidia_cuda_runtime_cu12-12.4.127-py3-none-manylinux2014_x86_64.whl.metadata (1.5 kB)\n",
            "Collecting nvidia-cuda-cupti-cu12==12.4.127 (from torch>=1.8.0->ultralytics)\n",
            "  Downloading nvidia_cuda_cupti_cu12-12.4.127-py3-none-manylinux2014_x86_64.whl.metadata (1.6 kB)\n",
            "Collecting nvidia-cudnn-cu12==9.1.0.70 (from torch>=1.8.0->ultralytics)\n",
            "  Downloading nvidia_cudnn_cu12-9.1.0.70-py3-none-manylinux2014_x86_64.whl.metadata (1.6 kB)\n",
            "Collecting nvidia-cublas-cu12==12.4.5.8 (from torch>=1.8.0->ultralytics)\n",
            "  Downloading nvidia_cublas_cu12-12.4.5.8-py3-none-manylinux2014_x86_64.whl.metadata (1.5 kB)\n",
            "Collecting nvidia-cufft-cu12==11.2.1.3 (from torch>=1.8.0->ultralytics)\n",
            "  Downloading nvidia_cufft_cu12-11.2.1.3-py3-none-manylinux2014_x86_64.whl.metadata (1.5 kB)\n",
            "Collecting nvidia-curand-cu12==10.3.5.147 (from torch>=1.8.0->ultralytics)\n",
            "  Downloading nvidia_curand_cu12-10.3.5.147-py3-none-manylinux2014_x86_64.whl.metadata (1.5 kB)\n",
            "Collecting nvidia-cusolver-cu12==11.6.1.9 (from torch>=1.8.0->ultralytics)\n",
            "  Downloading nvidia_cusolver_cu12-11.6.1.9-py3-none-manylinux2014_x86_64.whl.metadata (1.6 kB)\n",
            "Collecting nvidia-cusparse-cu12==12.3.1.170 (from torch>=1.8.0->ultralytics)\n",
            "  Downloading nvidia_cusparse_cu12-12.3.1.170-py3-none-manylinux2014_x86_64.whl.metadata (1.6 kB)\n",
            "Requirement already satisfied: nvidia-cusparselt-cu12==0.6.2 in /usr/local/lib/python3.11/dist-packages (from torch>=1.8.0->ultralytics) (0.6.2)\n",
            "Requirement already satisfied: nvidia-nccl-cu12==2.21.5 in /usr/local/lib/python3.11/dist-packages (from torch>=1.8.0->ultralytics) (2.21.5)\n",
            "Requirement already satisfied: nvidia-nvtx-cu12==12.4.127 in /usr/local/lib/python3.11/dist-packages (from torch>=1.8.0->ultralytics) (12.4.127)\n",
            "Collecting nvidia-nvjitlink-cu12==12.4.127 (from torch>=1.8.0->ultralytics)\n",
            "  Downloading nvidia_nvjitlink_cu12-12.4.127-py3-none-manylinux2014_x86_64.whl.metadata (1.5 kB)\n",
            "Requirement already satisfied: triton==3.2.0 in /usr/local/lib/python3.11/dist-packages (from torch>=1.8.0->ultralytics) (3.2.0)\n",
            "Requirement already satisfied: mpmath<1.4,>=1.1.0 in /usr/local/lib/python3.11/dist-packages (from sympy->onnxruntime) (1.3.0)\n",
            "Collecting humanfriendly>=9.1 (from coloredlogs->onnxruntime)\n",
            "  Downloading humanfriendly-10.0-py2.py3-none-any.whl.metadata (9.2 kB)\n",
            "Requirement already satisfied: six>=1.5 in /usr/local/lib/python3.11/dist-packages (from python-dateutil>=2.7->matplotlib>=3.3.0->ultralytics) (1.17.0)\n",
            "Requirement already satisfied: MarkupSafe>=2.0 in /usr/local/lib/python3.11/dist-packages (from jinja2->torch>=1.8.0->ultralytics) (3.0.2)\n",
            "Downloading ultralytics-8.3.136-py3-none-any.whl (1.0 MB)\n",
            "\u001b[2K   \u001b[90m━━━━━━━━━━━━━━━━━━━━━━━━━━━━━━━━━━━━━━━━\u001b[0m \u001b[32m1.0/1.0 MB\u001b[0m \u001b[31m15.1 MB/s\u001b[0m eta \u001b[36m0:00:00\u001b[0m\n",
            "\u001b[?25hDownloading onnx-1.18.0-cp311-cp311-manylinux_2_17_x86_64.manylinux2014_x86_64.whl (17.6 MB)\n",
            "\u001b[2K   \u001b[90m━━━━━━━━━━━━━━━━━━━━━━━━━━━━━━━━━━━━━━━━\u001b[0m \u001b[32m17.6/17.6 MB\u001b[0m \u001b[31m59.5 MB/s\u001b[0m eta \u001b[36m0:00:00\u001b[0m\n",
            "\u001b[?25hDownloading onnxruntime-1.22.0-cp311-cp311-manylinux_2_27_x86_64.manylinux_2_28_x86_64.whl (16.4 MB)\n",
            "\u001b[2K   \u001b[90m━━━━━━━━━━━━━━━━━━━━━━━━━━━━━━━━━━━━━━━━\u001b[0m \u001b[32m16.4/16.4 MB\u001b[0m \u001b[31m56.2 MB/s\u001b[0m eta \u001b[36m0:00:00\u001b[0m\n",
            "\u001b[?25hDownloading nvidia_cublas_cu12-12.4.5.8-py3-none-manylinux2014_x86_64.whl (363.4 MB)\n",
            "\u001b[2K   \u001b[90m━━━━━━━━━━━━━━━━━━━━━━━━━━━━━━━━━━━━━━━━\u001b[0m \u001b[32m363.4/363.4 MB\u001b[0m \u001b[31m4.2 MB/s\u001b[0m eta \u001b[36m0:00:00\u001b[0m\n",
            "\u001b[?25hDownloading nvidia_cuda_cupti_cu12-12.4.127-py3-none-manylinux2014_x86_64.whl (13.8 MB)\n",
            "\u001b[2K   \u001b[90m━━━━━━━━━━━━━━━━━━━━━━━━━━━━━━━━━━━━━━━━\u001b[0m \u001b[32m13.8/13.8 MB\u001b[0m \u001b[31m55.4 MB/s\u001b[0m eta \u001b[36m0:00:00\u001b[0m\n",
            "\u001b[?25hDownloading nvidia_cuda_nvrtc_cu12-12.4.127-py3-none-manylinux2014_x86_64.whl (24.6 MB)\n",
            "\u001b[2K   \u001b[90m━━━━━━━━━━━━━━━━━━━━━━━━━━━━━━━━━━━━━━━━\u001b[0m \u001b[32m24.6/24.6 MB\u001b[0m \u001b[31m58.5 MB/s\u001b[0m eta \u001b[36m0:00:00\u001b[0m\n",
            "\u001b[?25hDownloading nvidia_cuda_runtime_cu12-12.4.127-py3-none-manylinux2014_x86_64.whl (883 kB)\n",
            "\u001b[2K   \u001b[90m━━━━━━━━━━━━━━━━━━━━━━━━━━━━━━━━━━━━━━━━\u001b[0m \u001b[32m883.7/883.7 kB\u001b[0m \u001b[31m35.2 MB/s\u001b[0m eta \u001b[36m0:00:00\u001b[0m\n",
            "\u001b[?25hDownloading nvidia_cudnn_cu12-9.1.0.70-py3-none-manylinux2014_x86_64.whl (664.8 MB)\n",
            "\u001b[2K   \u001b[90m━━━━━━━━━━━━━━━━━━━━━━━━━━━━━━━━━━━━━━━━\u001b[0m \u001b[32m664.8/664.8 MB\u001b[0m \u001b[31m2.8 MB/s\u001b[0m eta \u001b[36m0:00:00\u001b[0m\n",
            "\u001b[?25hDownloading nvidia_cufft_cu12-11.2.1.3-py3-none-manylinux2014_x86_64.whl (211.5 MB)\n",
            "\u001b[2K   \u001b[90m━━━━━━━━━━━━━━━━━━━━━━━━━━━━━━━━━━━━━━━━\u001b[0m \u001b[32m211.5/211.5 MB\u001b[0m \u001b[31m6.4 MB/s\u001b[0m eta \u001b[36m0:00:00\u001b[0m\n",
            "\u001b[?25hDownloading nvidia_curand_cu12-10.3.5.147-py3-none-manylinux2014_x86_64.whl (56.3 MB)\n",
            "\u001b[2K   \u001b[90m━━━━━━━━━━━━━━━━━━━━━━━━━━━━━━━━━━━━━━━━\u001b[0m \u001b[32m56.3/56.3 MB\u001b[0m \u001b[31m15.7 MB/s\u001b[0m eta \u001b[36m0:00:00\u001b[0m\n",
            "\u001b[?25hDownloading nvidia_cusolver_cu12-11.6.1.9-py3-none-manylinux2014_x86_64.whl (127.9 MB)\n",
            "\u001b[2K   \u001b[90m━━━━━━━━━━━━━━━━━━━━━━━━━━━━━━━━━━━━━━━━\u001b[0m \u001b[32m127.9/127.9 MB\u001b[0m \u001b[31m7.2 MB/s\u001b[0m eta \u001b[36m0:00:00\u001b[0m\n",
            "\u001b[?25hDownloading nvidia_cusparse_cu12-12.3.1.170-py3-none-manylinux2014_x86_64.whl (207.5 MB)\n",
            "\u001b[2K   \u001b[90m━━━━━━━━━━━━━━━━━━━━━━━━━━━━━━━━━━━━━━━━\u001b[0m \u001b[32m207.5/207.5 MB\u001b[0m \u001b[31m5.9 MB/s\u001b[0m eta \u001b[36m0:00:00\u001b[0m\n",
            "\u001b[?25hDownloading nvidia_nvjitlink_cu12-12.4.127-py3-none-manylinux2014_x86_64.whl (21.1 MB)\n",
            "\u001b[2K   \u001b[90m━━━━━━━━━━━━━━━━━━━━━━━━━━━━━━━━━━━━━━━━\u001b[0m \u001b[32m21.1/21.1 MB\u001b[0m \u001b[31m90.4 MB/s\u001b[0m eta \u001b[36m0:00:00\u001b[0m\n",
            "\u001b[?25hDownloading ultralytics_thop-2.0.14-py3-none-any.whl (26 kB)\n",
            "Downloading coloredlogs-15.0.1-py2.py3-none-any.whl (46 kB)\n",
            "\u001b[2K   \u001b[90m━━━━━━━━━━━━━━━━━━━━━━━━━━━━━━━━━━━━━━━━\u001b[0m \u001b[32m46.0/46.0 kB\u001b[0m \u001b[31m3.1 MB/s\u001b[0m eta \u001b[36m0:00:00\u001b[0m\n",
            "\u001b[?25hDownloading humanfriendly-10.0-py2.py3-none-any.whl (86 kB)\n",
            "\u001b[2K   \u001b[90m━━━━━━━━━━━━━━━━━━━━━━━━━━━━━━━━━━━━━━━━\u001b[0m \u001b[32m86.8/86.8 kB\u001b[0m \u001b[31m6.5 MB/s\u001b[0m eta \u001b[36m0:00:00\u001b[0m\n",
            "\u001b[?25hInstalling collected packages: onnx, nvidia-nvjitlink-cu12, nvidia-curand-cu12, nvidia-cufft-cu12, nvidia-cuda-runtime-cu12, nvidia-cuda-nvrtc-cu12, nvidia-cuda-cupti-cu12, nvidia-cublas-cu12, humanfriendly, nvidia-cusparse-cu12, nvidia-cudnn-cu12, coloredlogs, onnxruntime, nvidia-cusolver-cu12, ultralytics-thop, ultralytics\n",
            "  Attempting uninstall: nvidia-nvjitlink-cu12\n",
            "    Found existing installation: nvidia-nvjitlink-cu12 12.5.82\n",
            "    Uninstalling nvidia-nvjitlink-cu12-12.5.82:\n",
            "      Successfully uninstalled nvidia-nvjitlink-cu12-12.5.82\n",
            "  Attempting uninstall: nvidia-curand-cu12\n",
            "    Found existing installation: nvidia-curand-cu12 10.3.6.82\n",
            "    Uninstalling nvidia-curand-cu12-10.3.6.82:\n",
            "      Successfully uninstalled nvidia-curand-cu12-10.3.6.82\n",
            "  Attempting uninstall: nvidia-cufft-cu12\n",
            "    Found existing installation: nvidia-cufft-cu12 11.2.3.61\n",
            "    Uninstalling nvidia-cufft-cu12-11.2.3.61:\n",
            "      Successfully uninstalled nvidia-cufft-cu12-11.2.3.61\n",
            "  Attempting uninstall: nvidia-cuda-runtime-cu12\n",
            "    Found existing installation: nvidia-cuda-runtime-cu12 12.5.82\n",
            "    Uninstalling nvidia-cuda-runtime-cu12-12.5.82:\n",
            "      Successfully uninstalled nvidia-cuda-runtime-cu12-12.5.82\n",
            "  Attempting uninstall: nvidia-cuda-nvrtc-cu12\n",
            "    Found existing installation: nvidia-cuda-nvrtc-cu12 12.5.82\n",
            "    Uninstalling nvidia-cuda-nvrtc-cu12-12.5.82:\n",
            "      Successfully uninstalled nvidia-cuda-nvrtc-cu12-12.5.82\n",
            "  Attempting uninstall: nvidia-cuda-cupti-cu12\n",
            "    Found existing installation: nvidia-cuda-cupti-cu12 12.5.82\n",
            "    Uninstalling nvidia-cuda-cupti-cu12-12.5.82:\n",
            "      Successfully uninstalled nvidia-cuda-cupti-cu12-12.5.82\n",
            "  Attempting uninstall: nvidia-cublas-cu12\n",
            "    Found existing installation: nvidia-cublas-cu12 12.5.3.2\n",
            "    Uninstalling nvidia-cublas-cu12-12.5.3.2:\n",
            "      Successfully uninstalled nvidia-cublas-cu12-12.5.3.2\n",
            "  Attempting uninstall: nvidia-cusparse-cu12\n",
            "    Found existing installation: nvidia-cusparse-cu12 12.5.1.3\n",
            "    Uninstalling nvidia-cusparse-cu12-12.5.1.3:\n",
            "      Successfully uninstalled nvidia-cusparse-cu12-12.5.1.3\n",
            "  Attempting uninstall: nvidia-cudnn-cu12\n",
            "    Found existing installation: nvidia-cudnn-cu12 9.3.0.75\n",
            "    Uninstalling nvidia-cudnn-cu12-9.3.0.75:\n",
            "      Successfully uninstalled nvidia-cudnn-cu12-9.3.0.75\n",
            "  Attempting uninstall: nvidia-cusolver-cu12\n",
            "    Found existing installation: nvidia-cusolver-cu12 11.6.3.83\n",
            "    Uninstalling nvidia-cusolver-cu12-11.6.3.83:\n",
            "      Successfully uninstalled nvidia-cusolver-cu12-11.6.3.83\n",
            "Successfully installed coloredlogs-15.0.1 humanfriendly-10.0 nvidia-cublas-cu12-12.4.5.8 nvidia-cuda-cupti-cu12-12.4.127 nvidia-cuda-nvrtc-cu12-12.4.127 nvidia-cuda-runtime-cu12-12.4.127 nvidia-cudnn-cu12-9.1.0.70 nvidia-cufft-cu12-11.2.1.3 nvidia-curand-cu12-10.3.5.147 nvidia-cusolver-cu12-11.6.1.9 nvidia-cusparse-cu12-12.3.1.170 nvidia-nvjitlink-cu12-12.4.127 onnx-1.18.0 onnxruntime-1.22.0 ultralytics-8.3.136 ultralytics-thop-2.0.14\n"
          ]
        }
      ]
    },
    {
      "cell_type": "code",
      "source": [
        "from ultralytics import YOLO\n",
        "\n",
        "# Загружаем YOLOv8n\n",
        "model = YOLO('yolov8n.pt')\n",
        "\n",
        "# Экспортируем модель в ONNX\n",
        "model.export(format='onnx')"
      ],
      "metadata": {
        "colab": {
          "base_uri": "https://localhost:8080/",
          "height": 799
        },
        "id": "WjbrmH5D6vay",
        "outputId": "3a580526-c599-46e7-dc06-cda5207b6390"
      },
      "id": "WjbrmH5D6vay",
      "execution_count": 2,
      "outputs": [
        {
          "output_type": "stream",
          "name": "stdout",
          "text": [
            "Creating new Ultralytics Settings v0.0.6 file ✅ \n",
            "View Ultralytics Settings with 'yolo settings' or at '/root/.config/Ultralytics/settings.json'\n",
            "Update Settings with 'yolo settings key=value', i.e. 'yolo settings runs_dir=path/to/dir'. For help see https://docs.ultralytics.com/quickstart/#ultralytics-settings.\n",
            "Downloading https://github.com/ultralytics/assets/releases/download/v8.3.0/yolov8n.pt to 'yolov8n.pt'...\n"
          ]
        },
        {
          "output_type": "stream",
          "name": "stderr",
          "text": [
            "100%|██████████| 6.25M/6.25M [00:00<00:00, 77.2MB/s]\n"
          ]
        },
        {
          "output_type": "stream",
          "name": "stdout",
          "text": [
            "Ultralytics 8.3.136 🚀 Python-3.11.12 torch-2.6.0+cu124 CPU (Intel Xeon 2.20GHz)\n",
            "💡 ProTip: Export to OpenVINO format for best performance on Intel CPUs. Learn more at https://docs.ultralytics.com/integrations/openvino/\n",
            "YOLOv8n summary (fused): 72 layers, 3,151,904 parameters, 0 gradients, 8.7 GFLOPs\n",
            "\n",
            "\u001b[34m\u001b[1mPyTorch:\u001b[0m starting from 'yolov8n.pt' with input shape (1, 3, 640, 640) BCHW and output shape(s) (1, 84, 8400) (6.2 MB)\n",
            "\u001b[31m\u001b[1mrequirements:\u001b[0m Ultralytics requirements ['onnx>=1.12.0,<1.18.0', 'onnxslim>=0.1.46'] not found, attempting AutoUpdate...\n",
            "Collecting onnx<1.18.0,>=1.12.0\n",
            "  Downloading onnx-1.17.0-cp311-cp311-manylinux_2_17_x86_64.manylinux2014_x86_64.whl.metadata (16 kB)\n",
            "Collecting onnxslim>=0.1.46\n",
            "  Downloading onnxslim-0.1.53-py3-none-any.whl.metadata (5.0 kB)\n",
            "Requirement already satisfied: numpy>=1.20 in /usr/local/lib/python3.11/dist-packages (from onnx<1.18.0,>=1.12.0) (2.0.2)\n",
            "Requirement already satisfied: protobuf>=3.20.2 in /usr/local/lib/python3.11/dist-packages (from onnx<1.18.0,>=1.12.0) (5.29.4)\n",
            "Requirement already satisfied: sympy in /usr/local/lib/python3.11/dist-packages (from onnxslim>=0.1.46) (1.13.1)\n",
            "Requirement already satisfied: packaging in /usr/local/lib/python3.11/dist-packages (from onnxslim>=0.1.46) (24.2)\n",
            "Requirement already satisfied: mpmath<1.4,>=1.1.0 in /usr/local/lib/python3.11/dist-packages (from sympy->onnxslim>=0.1.46) (1.3.0)\n",
            "Downloading onnx-1.17.0-cp311-cp311-manylinux_2_17_x86_64.manylinux2014_x86_64.whl (16.0 MB)\n",
            "   ━━━━━━━━━━━━━━━━━━━━━━━━━━━━━━━━━━━━━━━━ 16.0/16.0 MB 269.3 MB/s eta 0:00:00\n",
            "Downloading onnxslim-0.1.53-py3-none-any.whl (146 kB)\n",
            "   ━━━━━━━━━━━━━━━━━━━━━━━━━━━━━━━━━━━━━━━ 146.2/146.2 kB 255.9 MB/s eta 0:00:00\n",
            "Installing collected packages: onnx, onnxslim\n",
            "  Attempting uninstall: onnx\n",
            "    Found existing installation: onnx 1.18.0\n",
            "    Uninstalling onnx-1.18.0:\n",
            "      Successfully uninstalled onnx-1.18.0\n",
            "Successfully installed onnx-1.17.0 onnxslim-0.1.53\n",
            "\n",
            "\u001b[31m\u001b[1mrequirements:\u001b[0m AutoUpdate success ✅ 7.3s, installed 2 packages: ['onnx>=1.12.0,<1.18.0', 'onnxslim>=0.1.46']\n",
            "WARNING ⚠️ \u001b[31m\u001b[1mrequirements:\u001b[0m \u001b[1mRestart runtime or rerun command for updates to take effect\u001b[0m\n",
            "\n",
            "\n",
            "\u001b[34m\u001b[1mONNX:\u001b[0m starting export with onnx 1.17.0 opset 19...\n",
            "\u001b[34m\u001b[1mONNX:\u001b[0m slimming with onnxslim 0.1.53...\n",
            "\u001b[34m\u001b[1mONNX:\u001b[0m export success ✅ 13.0s, saved as 'yolov8n.onnx' (12.2 MB)\n",
            "\n",
            "Export complete (15.4s)\n",
            "Results saved to \u001b[1m/content\u001b[0m\n",
            "Predict:         yolo predict task=detect model=yolov8n.onnx imgsz=640  \n",
            "Validate:        yolo val task=detect model=yolov8n.onnx imgsz=640 data=coco.yaml  \n",
            "Visualize:       https://netron.app\n"
          ]
        },
        {
          "output_type": "execute_result",
          "data": {
            "text/plain": [
              "'yolov8n.onnx'"
            ],
            "application/vnd.google.colaboratory.intrinsic+json": {
              "type": "string"
            }
          },
          "metadata": {},
          "execution_count": 2
        }
      ]
    },
    {
      "cell_type": "code",
      "source": [
        "import onnx\n",
        "\n",
        "onnx_model = onnx.load(\"yolov8n.onnx\")\n",
        "onnx.checker.check_model(onnx_model)\n",
        "print(\"ONNX модель валидна!\")"
      ],
      "metadata": {
        "colab": {
          "base_uri": "https://localhost:8080/"
        },
        "id": "cVSToXm57L9d",
        "outputId": "f06fc087-2512-42b0-bc60-c8adcece58fb"
      },
      "id": "cVSToXm57L9d",
      "execution_count": 3,
      "outputs": [
        {
          "output_type": "stream",
          "name": "stdout",
          "text": [
            "ONNX модель валидна!\n"
          ]
        }
      ]
    },
    {
      "cell_type": "markdown",
      "id": "df26ea3e",
      "metadata": {
        "id": "df26ea3e"
      },
      "source": [
        "\n",
        "## 🛠 Часть 2: Препроцессинг изображения для ONNX модели\n",
        "\n",
        "Приводим изображение к формату, который ожидает ONNX модель.\n",
        "\n",
        "### 📦 Установка\n",
        "```bash\n",
        "pip install opencv-python\n",
        "```\n",
        "\n",
        "### 💡 Пример препроцессинга\n",
        "```python\n",
        "import cv2\n",
        "import numpy as np\n",
        "\n",
        "# Чтение и ресайз изображения\n",
        "img = cv2.imread(\"image.jpg\")\n",
        "img = cv2.resize(img, (640, 640))\n",
        "\n",
        "# BGR → RGB\n",
        "img = cv2.cvtColor(img, cv2.COLOR_BGR2RGB)\n",
        "\n",
        "# Нормализация\n",
        "img = img.astype(np.float32) / 255.0\n",
        "\n",
        "# Транспонирование и батчинг\n",
        "img = np.transpose(img, (2, 0, 1))  # CHW\n",
        "img = np.expand_dims(img, axis=0)  # BCHW\n",
        "\n",
        "print(\"Форма входа в ONNX:\", img.shape)\n",
        "```\n"
      ]
    },
    {
      "cell_type": "code",
      "source": [
        "pip install opencv-python"
      ],
      "metadata": {
        "colab": {
          "base_uri": "https://localhost:8080/"
        },
        "id": "7CVX5zUO8Nwg",
        "outputId": "d5d0bc57-7901-4057-fe73-04881b1df04c"
      },
      "id": "7CVX5zUO8Nwg",
      "execution_count": 4,
      "outputs": [
        {
          "output_type": "stream",
          "name": "stdout",
          "text": [
            "Requirement already satisfied: opencv-python in /usr/local/lib/python3.11/dist-packages (4.11.0.86)\n",
            "Requirement already satisfied: numpy>=1.21.2 in /usr/local/lib/python3.11/dist-packages (from opencv-python) (2.0.2)\n"
          ]
        }
      ]
    },
    {
      "cell_type": "code",
      "source": [
        "import cv2\n",
        "import numpy as np\n",
        "\n",
        "# Чтение и ресайз изображения\n",
        "img = cv2.imread(\"/content/monkey.jpeg\")\n",
        "img = cv2.resize(img, (640, 640))\n",
        "\n",
        "# BGR → RGB\n",
        "img = cv2.cvtColor(img, cv2.COLOR_BGR2RGB)\n",
        "\n",
        "# Нормализация\n",
        "img = img.astype(np.float32) / 255.0\n",
        "\n",
        "# Транспонирование и батчинг\n",
        "img = np.transpose(img, (2, 0, 1))  # CHW\n",
        "img = np.expand_dims(img, axis=0)  # BCHW\n",
        "\n",
        "print(\"Форма входа в ONNX:\", img.shape)"
      ],
      "metadata": {
        "colab": {
          "base_uri": "https://localhost:8080/"
        },
        "id": "sS8bU8yA8Uan",
        "outputId": "2cb0e732-16f3-4902-b561-edf948c1fb17"
      },
      "id": "sS8bU8yA8Uan",
      "execution_count": 5,
      "outputs": [
        {
          "output_type": "stream",
          "name": "stdout",
          "text": [
            "Форма входа в ONNX: (1, 3, 640, 640)\n"
          ]
        }
      ]
    },
    {
      "cell_type": "markdown",
      "source": [
        "🔍 1. img.astype(np.float32) / 255.0 — Нормализация\n",
        "📌 Зачем?\n",
        "Большинство моделей нейросетей (включая YOLO) ожидают входные данные в диапазоне [0.0, 1.0], а не [0, 255], как у обычного изображения.\n",
        "Нормализация помогает:\n",
        "\n",
        "ускорить сходимость обучения (если ты обучаешь),\n",
        "\n",
        "сделать предсказания стабильными (если ты используешь готовую модель).\n",
        "\n",
        "🔢 Без этого:\n",
        "Модель может выдавать бессмысленный результат, потому что она была обучена на нормализованных данных.\n",
        "\n",
        "🔄 2. np.transpose(img, (2, 0, 1)) — Порядок каналов: CHW вместо HWC\n",
        "📌 Зачем?\n",
        "OpenCV по умолчанию возвращает изображение в формате HWC (высота, ширина, каналы), т.е. [640, 640, 3].\n",
        "\n",
        "А большинство моделей (в ONNX, PyTorch и др.) ожидают вход в формате CHW (каналы, высота, ширина) — [3, 640, 640].\n",
        "\n",
        "🔁 Что делает .transpose(2, 0, 1)?\n",
        "Меняет местами оси:\n",
        "\n",
        "python\n",
        "Копировать\n",
        "Редактировать\n",
        "img = img[height, width, channels] → img[channels, height, width]\n",
        "📦 3. np.expand_dims(img, axis=0) — Добавление батча (размер пакета)\n",
        "📌 Зачем?\n",
        "Модель принимает батч изображений, даже если он из одного изображения.\n",
        "Форма входа должна быть:\n",
        "[B, C, H, W], где:\n",
        "\n",
        "B — количество изображений (batch size)\n",
        "\n",
        "C — количество каналов (обычно 3)\n",
        "\n",
        "H, W — высота и ширина\n",
        "\n",
        "Пример:\n",
        "\n",
        "(3, 640, 640) → (1, 3, 640, 640)\n",
        "Если не сделать — ONNX runtime может выдать ошибку: \"invalid input shape\".\n",
        "\n",
        "🧠 ИТОГО:\n",
        "Операция\tНазначение\tЧто было → стало\n",
        "img.astype(np.float32) / 255.0\tНормализация\t[0–255] → [0–1]\n",
        "np.transpose(img, (2, 0, 1))\tПреобразование в CHW\tHWC → CHW\n",
        "np.expand_dims(img, axis=0)\tДобавление batch-оси\tCHW → BCHW"
      ],
      "metadata": {
        "id": "ZX07t2MN-yNG"
      },
      "id": "ZX07t2MN-yNG"
    },
    {
      "cell_type": "markdown",
      "id": "3d5be46f",
      "metadata": {
        "id": "3d5be46f"
      },
      "source": [
        "\n",
        "## 📐 Часть 3: Harris Corner Detection и собственные значения\n",
        "\n",
        "Harris детектор ищет углы путём анализа **собственных значений** матрицы градиентов.\n",
        "\n",
        "### 🧠 Теория\n",
        "Матрица градиентов:\n",
        "$$\n",
        "M = \\begin{bmatrix}\n",
        "\\sum I_x^2 & \\sum I_x I_y \\\\\n",
        "\\sum I_x I_y & \\sum I_y^2\n",
        "\\end{bmatrix}\n",
        "$$\n",
        "\n",
        "Ответ по Харрису:\n",
        "$$\n",
        "R = \\det(M) - k \\cdot (\\text{trace}(M))^2\n",
        "$$\n",
        "\n",
        "### 💡 Реализация в OpenCV\n",
        "```python\n",
        "import cv2\n",
        "import numpy as np\n",
        "import matplotlib.pyplot as plt\n",
        "\n",
        "img = cv2.imread(\"image.jpg\")\n",
        "gray = cv2.cvtColor(img, cv2.COLOR_BGR2GRAY)\n",
        "gray = np.float32(gray)\n",
        "\n",
        "# Параметр k = 0.04\n",
        "dst = cv2.cornerHarris(gray, 2, 3, 0.04)\n",
        "\n",
        "# Улучшение углов\n",
        "dst = cv2.dilate(dst, None)\n",
        "\n",
        "# Отображение\n",
        "img[dst > 0.01 * dst.max()] = [0, 0, 255]\n",
        "\n",
        "plt.imshow(cv2.cvtColor(img, cv2.COLOR_BGR2RGB))\n",
        "plt.title(\"Harris Corners\")\n",
        "plt.axis(\"off\")\n",
        "plt.show()\n",
        "```\n"
      ]
    },
    {
      "cell_type": "markdown",
      "source": [
        "## 📍 Цель Harris Corner Detection\n",
        "\n",
        "Находить углы — такие точки на изображении, в которых градиент сильно меняется в разных направлениях.\n",
        "\n",
        "Пример: пересечение линий, края окна, угол здания.\n",
        "\n",
        "Такие точки — информативны для трекинга, сопоставления изображений, SLAM и т.д.\n",
        "\n",
        "---\n",
        "\n",
        "## 🧠 Подход Харриса: через градиенты и собственные значения матрицы ковариации\n",
        "\n",
        "### 🔧 1. Градиенты изображения\n",
        "\n",
        "Для каждого пикселя считаем частные производные:\n",
        "\n",
        "- Ix = ∂I/∂x — насколько быстро меняется интенсивность по горизонтали  \n",
        "- Iy = ∂I/∂y — насколько быстро по вертикали\n",
        "\n",
        "В коде чаще всего:\n",
        "\n",
        "```python\n",
        "I_x = Sobel(I, dx=1, dy=0)  \n",
        "I_y = Sobel(I, dx=0, dy=1)\n",
        "🧱 2. Матрица ковариации градиентов\n",
        "Для каждого окна вокруг пикселя строится матрица:\n",
        "\n",
        "M = [ ∑Ix² ∑IxIy\n",
        "      ∑IxIy ∑Iy² ]\n",
        "\n",
        "Эта матрица показывает, насколько сильно изображение меняется по разным направлениям.\n",
        "\n",
        "🔍 3. Собственные значения λ1 и λ2\n",
        "Интерпретация:\n",
        "\n",
        "Оба λ большие → угол\n",
        "\n",
        "Один большой, другой ≈ 0 → край\n",
        "\n",
        "Оба ≈ 0 → ровная область\n",
        "\n",
        "🧮 4. Harris-ответ: угловая мера R\n",
        "Формула:\n",
        "\n",
        "R = det(M) - k * (trace(M))²\n",
        "\n",
        "Где:\n",
        "\n",
        "det(M) = λ1 * λ2 — мощь изменений по двум осям\n",
        "\n",
        "trace(M) = λ1 + λ2 — сумма изменений\n",
        "\n",
        "k ∈ [0.04, 0.06] — чувствительность\n",
        "\n",
        "📌 Как использовать R\n",
        "R > threshold → угол\n",
        "\n",
        "R < 0 → край\n",
        "\n",
        "R ≈ 0 → ровная область\n",
        "\n",
        "💡 Интуиция\n",
        "Мы сдвигаем окно и проверяем, насколько сильно меняется интенсивность.\n",
        "Если изменения большие во всех направлениях — это угол.\n",
        "\n"
      ],
      "metadata": {
        "id": "uyrckfflHxf_"
      },
      "id": "uyrckfflHxf_"
    },
    {
      "cell_type": "markdown",
      "source": [
        "🔳 Что такое окно в Harris Corner Detection?\n",
        "Окно — это небольшая область изображения вокруг каждой рассматриваемой точки, на которой мы анализируем градиенты и их изменения.\n",
        "\n",
        "📏 Обычно это квадрат: например, 3×3, 5×5, 7×7 пикселей.\n",
        "В коде может встречаться как \"blockSize\" или \"windowSize\" — параметр алгоритма.\n",
        "\n",
        "🔎 Зачем оно нужно?\n",
        "Мы хотим понять:\n",
        "\n",
        "Что происходит вокруг каждой точки?\n",
        "\n",
        "Меняется ли интенсивность изображения в окрестности?\n",
        "\n",
        "Для этого мы анализируем локальные градиенты в этом окне:\n",
        "\n",
        "Строим матрицу\n",
        "𝑀\n",
        "M\n",
        "\n",
        "Вычисляем собственные значения\n",
        "\n",
        "Считаем Harris-оценку R\n",
        "\n",
        "📌 Пример:\n",
        "Пусть у нас есть изображение 100×100 пикселей.\n",
        "\n",
        "Когда мы анализируем точку (50, 50), мы берём окно 5×5 пикселей вокруг неё:\n",
        "\n",
        "scss\n",
        "Копировать\n",
        "Редактировать\n",
        "(48,48) ─────────────── (52,48)\n",
        "   │                       │\n",
        "   │       (50,50)         │\n",
        "   │                       │\n",
        "(48,52) ─────────────── (52,52)\n",
        "На этих 25 пикселях мы:\n",
        "\n",
        "Считаем градиенты\n",
        "𝐼\n",
        "𝑥\n",
        ",\n",
        "𝐼\n",
        "𝑦\n",
        "I\n",
        "x\n",
        "​\n",
        " ,I\n",
        "y\n",
        "​\n",
        "\n",
        "\n",
        "Строим матрицу\n",
        "𝑀\n",
        "M\n",
        "\n",
        "Выводим R\n",
        "\n",
        "💡 Почему не на один пиксель?\n",
        "Если мы будем смотреть только на один пиксель, у нас не будет достаточно данных, чтобы оценить изменение интенсивности — нужен контекст.\n",
        "Окно даёт этот контекст и позволяет получить более надёжную и устойчивую оценку.\n",
        "\n",
        "📐 Важный момент:\n",
        "Параметр окна напрямую влияет на чувствительность и точность:\n",
        "\n",
        "Маленькое окно → точные, но шумные углы\n",
        "\n",
        "Большое окно → устойчивее, но может пропускать мелкие детали\n",
        "\n",
        "📘 В OpenCV:\n",
        "python\n",
        "Копировать\n",
        "Редактировать\n",
        "cv2.cornerHarris(gray, blockSize=2, ksize=3, k=0.04)\n",
        "blockSize=2 — окно 2×2 для усреднения градиентов (на самом деле 2*2+1 = 5×5)\n",
        "\n",
        "ksize=3 — размер ядра Собеля, которым считаются градиенты\n",
        "\n"
      ],
      "metadata": {
        "id": "JQ4ONwV2J5OZ"
      },
      "id": "JQ4ONwV2J5OZ"
    },
    {
      "cell_type": "code",
      "source": [
        "import cv2\n",
        "import numpy as np\n",
        "import matplotlib.pyplot as plt\n",
        "\n",
        "img = cv2.imread(\"/content/grid.jpg\")\n",
        "gray = cv2.cvtColor(img, cv2.COLOR_BGR2GRAY)\n",
        "gray = np.float32(gray)\n",
        "\n",
        "# Параметр k = 0.04\n",
        "dst = cv2.cornerHarris(gray, 2, 3, 0.04)\n",
        "\n",
        "# Улучшение углов\n",
        "dst = cv2.dilate(dst, None)\n",
        "\n",
        "# Отображение\n",
        "img[dst > 0.01 * dst.max()] = [0, 0, 255]\n",
        "\n",
        "plt.imshow(cv2.cvtColor(img, cv2.COLOR_BGR2RGB))\n",
        "plt.title(\"Harris Corners\")\n",
        "plt.axis(\"off\")\n",
        "plt.show()"
      ],
      "metadata": {
        "colab": {
          "base_uri": "https://localhost:8080/",
          "height": 308
        },
        "id": "ctEASN5ZADC2",
        "outputId": "d98d3c7a-2759-43e4-af98-c89a920d5631"
      },
      "id": "ctEASN5ZADC2",
      "execution_count": 8,
      "outputs": [
        {
          "output_type": "display_data",
          "data": {
            "text/plain": [
              "<Figure size 640x480 with 1 Axes>"
            ],
            "image/png": "[encoded data removed]"
          },
          "metadata": {}
        }
      ]
    },
    {
      "cell_type": "code",
      "source": [
        "import numpy as np\n",
        "import matplotlib.pyplot as plt\n",
        "import cv2\n",
        "\n",
        "# Создаем искусственное изображение с углом (градиент по X и Y)\n",
        "image = np.array([\n",
        "    [0,   0,   0,   0,   0],\n",
        "    [0, 255, 255, 255,   0],\n",
        "    [0, 255, 255, 255,   0],\n",
        "    [0, 255, 255, 255,   0],\n",
        "    [0,   0,   0,   0,   0]\n",
        "], dtype=np.uint8)\n",
        "\n",
        "# Отображаем исходное изображение\n",
        "plt.imshow(image, cmap='gray')\n",
        "plt.title(\"Искусственное изображение (угол)\")\n",
        "plt.axis('off')\n",
        "plt.show()\n",
        "\n",
        "# Рассчитаем градиенты\n",
        "I_x = cv2.Sobel(image.astype(np.float32), cv2.CV_64F, 1, 0, ksize=3)\n",
        "I_y = cv2.Sobel(image.astype(np.float32), cv2.CV_64F, 0, 1, ksize=3)\n",
        "\n",
        "# Выберем окно 3x3 в центре\n",
        "x, y = 2, 2  # центр\n",
        "window = slice(y-1, y+2), slice(x-1, x+2)\n",
        "\n",
        "Ix_window = I_x[window]\n",
        "Iy_window = I_y[window]\n",
        "\n",
        "# Вычислим элементы матрицы M\n",
        "Sxx = np.sum(Ix_window**2)\n",
        "Syy = np.sum(Iy_window**2)\n",
        "Sxy = np.sum(Ix_window * Iy_window)\n",
        "\n",
        "# Строим матрицу M\n",
        "M = np.array([[Sxx, Sxy],\n",
        "              [Sxy, Syy]])\n",
        "\n",
        "# Вычисляем собственные значения\n",
        "eigvals = np.linalg.eigvals(M)\n",
        "\n",
        "M, eigvals\n"
      ],
      "metadata": {
        "colab": {
          "base_uri": "https://localhost:8080/",
          "height": 481
        },
        "id": "kEQCOho3ALS0",
        "outputId": "1f5c38d2-63fa-427a-e39e-ddb0d12c1ddc"
      },
      "id": "kEQCOho3ALS0",
      "execution_count": 9,
      "outputs": [
        {
          "output_type": "display_data",
          "data": {
            "text/plain": [
              "<Figure size 640x480 with 1 Axes>"
            ],
            "image/png": "[encoded data removed]"
          },
          "metadata": {}
        },
        {
          "output_type": "execute_result",
          "data": {
            "text/plain": [
              "(array([[ 4.4217e+06,           0],\n",
              "        [          0,  4.4217e+06]]),\n",
              " array([ 4.4217e+06,  4.4217e+06]))"
            ]
          },
          "metadata": {},
          "execution_count": 9
        }
      ]
    },
    {
      "cell_type": "code",
      "source": [],
      "metadata": {
        "id": "b6t_6K4lOjua"
      },
      "id": "b6t_6K4lOjua",
      "execution_count": null,
      "outputs": []
    }
  ],
  "metadata": {
    "colab": {
      "provenance": [],
      "include_colab_link": true
    },
    "language_info": {
      "name": "python"
    },
    "kernelspec": {
      "name": "python3",
      "display_name": "Python 3"
    }
  },
  "nbformat": 4,
  "nbformat_minor": 5
}